{
 "cells": [
  {
   "cell_type": "code",
   "execution_count": 33,
   "id": "b524ad53-8960-4fe7-8540-d4892247c5b6",
   "metadata": {},
   "outputs": [],
   "source": [
    "from langchain.document_loaders import PyPDFLoader"
   ]
  },
  {
   "cell_type": "code",
   "execution_count": 36,
   "id": "8eb2f0a8-de02-4102-a01d-285ae30e540a",
   "metadata": {},
   "outputs": [],
   "source": [
    "file_path = \"/media/luiz/storage2/taufferconsulting/client_catalystneuro/project_llms/papers/science.1125572.pdf\"\n",
    "loader = PyPDFLoader(file_path)\n",
    "pages = loader.load_and_split()"
   ]
  },
  {
   "cell_type": "code",
   "execution_count": 40,
   "id": "2097ac13-3ea2-4653-b763-2210b5673c40",
   "metadata": {},
   "outputs": [],
   "source": [
    "del pages[0]"
   ]
  },
  {
   "cell_type": "code",
   "execution_count": null,
   "id": "75cfb3c0-ecb8-493f-89e8-e1c724a29025",
   "metadata": {
    "tags": []
   },
   "outputs": [],
   "source": [
    "full_text = \" \".join([p.page_content for p in pages])\n",
    "split_text = \"Conjunctive Representation of\"\n",
    "full_text = split_text + full_text.split(split_text)[1]\n",
    "full_text"
   ]
  },
  {
   "cell_type": "code",
   "execution_count": null,
   "id": "46a20342-cfe1-4035-95db-6b7af9edbcf5",
   "metadata": {},
   "outputs": [],
   "source": []
  },
  {
   "cell_type": "code",
   "execution_count": 55,
   "id": "c751cfc4-439b-4208-af49-00da00cc7146",
   "metadata": {},
   "outputs": [],
   "source": [
    "import openai\n",
    "import os"
   ]
  },
  {
   "cell_type": "code",
   "execution_count": 135,
   "id": "08e4f451-9d4f-4612-a158-ecb4719f00f7",
   "metadata": {},
   "outputs": [],
   "source": [
    "def get_llm_chat_answer(prompt: str, system_prompt: str = None, model: str = \"gpt-3.5-turbo\", task: str=\"step-by-step\"):\n",
    "    openai.api_key = os.getenv(\"OPENAI_API_KEY\")\n",
    "    if task == \"step-by-step\":\n",
    "        system_prompt = \"\"\"\n",
    "You are a helpful neuroscience research assistant. Based on the raw text, your goal is to provide a step-by-step guide to reproduce the results of the paper.\n",
    "You should always follow these rules:\n",
    "1. consider that you already have the data used in the paper\n",
    "2. break the bigger task into a list of numbered smaller tasks\n",
    "3. for each numbered task, give an one sentence instruction on data analysis only, as if it was a step to a Python script\n",
    "4. for each numbered task, give a longer context description explaining why this point is important, explain it really well\n",
    "\n",
    "Example:\n",
    "1. one sentence describing the goal of this first step.\n",
    "A longer context explaining the rational of this first step, why this is important and more detailed things one should take into consideration here.\n",
    "\n",
    "2. one sentence describing the goal of this second step.\n",
    "A longer context explaining the rational of this second step, why this is important and more detailed things one should take into consideration here.\n",
    "...\n",
    "N. one sentence describing the goal of this Nth step.\n",
    "A longer context explaining the rational of this Nth step, why this is important and more detailed things one should take into consideration here.\n",
    "\"\"\"\n",
    "    elif task == \"explain\":\n",
    "        system_prompt = \"\"\"\n",
    "You are a helpful neuroscience research assistant. Based on the raw text, your goal is to provide an objective and informative explanation of the paper.\n",
    "You should highlight the important aspects of the experiment and explain in a concise manner how these are relevant for the study conclusions.\n",
    "Try to describe relevant aspects such as:\n",
    "- experimental methods utilized\n",
    "- data analysis methods uutilized\n",
    "- theory and assumptions utilized\n",
    "Explain to the best of your knowledge, dot not make up information that is not present in the text.\n",
    "\"\"\"\n",
    "    elif task == \"hypotheses\":\n",
    "        system_prompt = \"\"\"Based on the raw text, your goal is to provide a list of hypothesis used in the article.\n",
    "You should answer with a numbered list with each item being a description of a hypothesis being tested in the article.\n",
    "For each hypothesis you find, make sure to include:\n",
    "- the hypothesis title\n",
    "- the hypothesis description, what does it mean\n",
    "- why is that hypothesis relevant for the study\n",
    "- how the study tests if the hypothesis is tru or false\n",
    "- think on one way to falsify this hypothesis, that is, one type of test that could prove it wrong\n",
    "\n",
    "Example:\n",
    "1. hypothesis XXX, explanations of this hypothesis: what does it mean, why is it relevant, how the article tests this hypothesis\n",
    "2. hypothesis YYY, explanations of this hypothesis: what does it mean, why is it relevant, how the article tests this hypothesis\"\"\"\n",
    "    completion = openai.ChatCompletion.create(\n",
    "        model=model,\n",
    "        messages=[\n",
    "            {\"role\": \"system\", \"content\": system_prompt},\n",
    "            {\"role\": \"user\", \"content\": prompt}\n",
    "        ]\n",
    "    )\n",
    "    return completion.choices[0].message[\"content\"]"
   ]
  },
  {
   "cell_type": "code",
   "execution_count": 96,
   "id": "2787ca0d-6be3-44c5-9fe3-7f8debf2f96d",
   "metadata": {},
   "outputs": [],
   "source": [
    "prompt = f\"Paper raw text: {full_text}\\nStep-by-step guide: \"\n",
    "r = get_llm_chat_answer(prompt=prompt, model=\"gpt-3.5-turbo-16k\")"
   ]
  },
  {
   "cell_type": "code",
   "execution_count": 97,
   "id": "4c8afbb7-4ceb-47ed-8eca-577077fb0e62",
   "metadata": {
    "tags": []
   },
   "outputs": [
    {
     "name": "stdout",
     "output_type": "stream",
     "text": [
      "1. Determine the location of grid cells in the medial entorhinal cortex (MEC) by analyzing the firing patterns of recorded cells in rats that explored two-dimensional environments.\n",
      " - Analyze recordings from each principal cell layer of MEC.\n",
      " - Look for grid cells in layer II that coincide with the vertices of a periodic triangular grid spanning the complete surface of the environment.\n",
      " - Use autocorrelation analysis to visualize the grid structure.\n",
      "\n",
      "2. Explore the prevalence of grid cells in different layers of the MEC.\n",
      " - Estimate the periodicity of the firing patterns of grid cells in each layer by computing a 2D autocorrelation matrix and calculating the correlation between rotated maps.\n",
      " - Determine the degree of \"gridness\" by comparing the correlations at the expected peaks and troughs of the function.\n",
      " - Analyze the distribution of gridness values in each layer.\n",
      "\n",
      "3. Investigate the geometric structure of grids in different layers of the MEC.\n",
      " - Define grid cells as the subset of cells with higher correlations at 60 and 120 degrees of rotation than at 30, 90, and 150 degrees.\n",
      " - Examine the scale of the grid in these cells and how it varies across different layers of the MEC.\n",
      "\n",
      "4. Identify the colocalization of grid cells with head-direction cells in the deeper layers of the MEC.\n",
      " - Determine the presence of head-direction cells in each layer by analyzing the firing rate of recorded cells in relation to the rat's head direction.\n",
      " - Compare the prevalence and degree of directional tuning in each layer.\n",
      "\n",
      "5. Analyze the conjunctive properties of grid and head-direction cells in the MEC.\n",
      " - Identify cells with conjunctive grid and head-direction properties by examining the firing correlates of simultaneously recorded cells.\n",
      " - Compare the proportion of conjunctive cells in different layers of the MEC.\n",
      " - Assess the degree of directional tuning in cells that exhibit both grid and head-direction properties.\n",
      "\n",
      "6. Investigate the expression of running speed in the firing rates of grid, head-direction, and conjunctive cells.\n",
      " - Analyze the correlations between the firing rates and running speed of recorded cells.\n",
      " - Determine the proportion of cells that exhibit a positive speed-rate relation.\n",
      " - Assess the slope and y-intercept of the regression lines relating speed and firing rate in different cell types.\n",
      "\n",
      "7. Determine the functional significance of conjunctive grid and head-direction cells in updating the representation of spatial location during self-motion-based navigation.\n",
      " - Hypothesize that the conjunctive cells integrate position, direction, and velocity information to update the position vector during the rat's movement.\n",
      " - Discuss the implications of the conjunctive cells being predominantly located in layers III and V, where axonal projections to the grid-cell population in layer II are extensive.\n",
      "\n",
      "8. Discuss the role of grid cells and head-direction cells as part of an integrated unit in the medial entorhinal circuit.\n",
      " - Suggest that all layers of the MEC operate together, with considerable interaction between grid cells in layer II and head-direction cells in layers III to VI.\n",
      " - Highlight the intermingled localization of grid and head-direction cells and the distributed representation of spatial phase and head orientation in these cell types.\n",
      "\n",
      "9. Compare the conjunctive representation of position and direction in the MEC to similar representations in other brain areas.\n",
      " - Note that similar conjunctive cells have been observed in the dorsal presubiculum, posterior parietal cortex, and other brain regions involved in spatial navigation and coordinate transformations.\n",
      "\n",
      "10. Discuss the implications of the integrated network of grid, head-direction, and conjunctive cells in the MEC for path integration and spatial cognition.\n",
      " - Propose that the conjunctive cells play a critical role in updating the position vector by integrating position, direction, and speed signals.\n",
      " - Speculate on the mechanisms by which the integration of these signals occurs within the local circuitry of the MEC and its interaction with other brain regions involved in spatial navigation.\n",
      "\n",
      "11. Summarize the findings and their significance in advancing our understanding of how the brain represents position, direction, and velocity in spatial navigation.\n",
      " - Highlight the discovery of grid cells as part of an environment-independent spatial coordinate system in the MEC.\n",
      " - Discuss the role of conjunctive grid and head-direction cells in updating the representation of spatial location during self-motion-based navigation.\n",
      " - Emphasize the importance of the integrated network of grid, head-direction, and conjunctive cells for the computation of head-centered coordinates and for path integration in spatial cognition.\n"
     ]
    }
   ],
   "source": [
    "print(r)"
   ]
  },
  {
   "cell_type": "code",
   "execution_count": 105,
   "id": "84e0ea62-bae4-403d-a93d-72db31dc24d4",
   "metadata": {},
   "outputs": [],
   "source": [
    "prompt = f\"Paper raw text: {full_text}\\nStep-by-step guide: \"\n",
    "r = get_llm_chat_answer(prompt=prompt, model=\"gpt-3.5-turbo-16k\", task=\"explain\")"
   ]
  },
  {
   "cell_type": "code",
   "execution_count": 106,
   "id": "feffde66-a649-4a35-bff0-47c5a957202b",
   "metadata": {
    "tags": []
   },
   "outputs": [
    {
     "name": "stdout",
     "output_type": "stream",
     "text": [
      "This paper investigates how information about location, direction, and distance is integrated in the grid-cell network in the medial entorhinal cortex (MEC) of rats. The experiment involved recording from each principal cell layer of MEC in rats that explored two-dimensional environments. The study found that grid cells, which are part of an environment-independent spatial coordinate system, were present in all principal cell layers of MEC. Grid cells in deeper layers were colocalized with head-direction cells and conjunctive grid/head-direction cells. All cell types were modulated by running speed. \n",
      "\n",
      "The findings suggest that the conjunction of positional, directional, and translational information in a single MEC cell type allows for grid coordinates to be updated during self-motion-based navigation. This suggests that grid cells in MEC may play a role in path integration during navigation.\n",
      "\n",
      "The experimental methods utilized involved recording neural activity from rats as they explored two-dimensional environments. The researchers measured the firing patterns of neurons in each principal cell layer of MEC and analyzed the data to determine the presence of grid cells and their conjunction with head-direction cells. The researchers also measured running speed and analyzed its correlation with neural activity.\n",
      "\n",
      "The data analysis methods utilized involved computing autocorrelation maps and correlations between rotated maps to identify the presence of grid cells. The researchers also used regression analyses to examine the relationship between running speed and firing rates of grid cells, head-direction cells, and conjunctive cells.\n",
      "\n",
      "The theory and assumptions utilized in this study are based on previous research suggesting that grid cells in MEC are part of a spatial coordinate system that is independent of the specific environment and external sensory cues. The study extends this theory by investigating how grid cells in MEC integrate with head-direction cells and how running speed modulates neural activity in these cell types. The assumption is that the conjunction of positional, directional, and translational information in MEC allows for accurate spatial updating during navigation.\n",
      "\n",
      "In conclusion, this study provides evidence for the conjunctive representation of position, direction, and velocity in the entorhinal cortex of rats. The findings suggest that grid cells in the medial entorhinal cortex may play a role in updating spatial coordinates during self-motion-based navigation.\n"
     ]
    }
   ],
   "source": [
    "print(r)"
   ]
  },
  {
   "cell_type": "code",
   "execution_count": 136,
   "id": "7f0afac5-3a4d-42e0-bf9a-48536a0bce98",
   "metadata": {},
   "outputs": [
    {
     "name": "stdout",
     "output_type": "stream",
     "text": [
      "1. Hypothesis: Grid cells in the medial entorhinal cortex (MEC) are part of an environment-independent spatial coordinate system.\n",
      "   - Explanation: The hypothesis states that grid cells in the MEC contribute to a spatial coordinate system that is not dependent on the specific environment or external sensory cues.\n",
      "   - Relevance: This hypothesis is relevant because it suggests that the MEC plays a role in spatial navigation and memory.\n",
      "   - Testing the hypothesis: The study recorded from each principal cell layer of the MEC in rats that explored two-dimensional environments to determine the presence of grid cells and their relationship to other cell types.\n",
      "   - Falsification: One way to falsify this hypothesis would be to find that grid cells in the MEC are only activated by specific environmental cues, rather than being able to create an environment-independent spatial coordinate system.\n",
      "\n",
      "2. Hypothesis: The conjunction of positional, directional, and translational information in a single MEC cell type enables grid coordinates to be updated during self-motion-based navigation.\n",
      "   - Explanation: This hypothesis suggests that certain MEC cell types integrate information about position, direction, and velocity to update the grid coordinates during self-motion-based navigation.\n",
      "   - Relevance: If true, this hypothesis would provide insight into how the MEC contributes to spatial navigation and the updating of spatial coordinates.\n",
      "   - Testing the hypothesis: The study recorded from different cell types in the MEC (grid cells, head-direction cells, and conjunctive grid/head-direction cells) and analyzed their firing patterns in relation to the rat's position, direction, and speed during navigation tasks.\n",
      "   - Falsification: One way to falsify this hypothesis would be to find that the firing patterns of the analyzed cell types do not correlate with the rat's position, direction, or speed, or that they do not exhibit conjunctive properties.\n",
      "\n",
      "3. Hypothesis: The integration of metric spatial information in the multilayered entorhinal network depends on the interaction between grid cells, head-direction cells, and other cell types in the MEC.\n",
      "   - Explanation: This hypothesis proposes that the integration of spatial information in the MEC relies on the interaction between different cell types, including grid cells and head-direction cells, as well as other unidentified cell types.\n",
      "   - Relevance: If confirmed, this hypothesis would help explain how the different cell types in the MEC work together to create a cohesive spatial representation.\n",
      "   - Testing the hypothesis: The study recorded from different cell types in the MEC and analyzed their simultaneous firing patterns to assess the degree of conjunctive properties and the interactions between the cell types.\n",
      "   - Falsification: One way to falsify this hypothesis would be to find that the firing patterns of the different cell types in the MEC are independent of each other and do not interact to create a spatial representation.\n"
     ]
    }
   ],
   "source": [
    "prompt = f\"Paper raw text: {full_text}\\nStep-by-step guide: \"\n",
    "r = get_llm_chat_answer(prompt=prompt, model=\"gpt-3.5-turbo-16k\", task=\"hypotheses\")\n",
    "print(r)"
   ]
  },
  {
   "cell_type": "code",
   "execution_count": null,
   "id": "c9ba12df-f319-4290-bf08-dcc90b7bcae9",
   "metadata": {},
   "outputs": [],
   "source": []
  },
  {
   "cell_type": "code",
   "execution_count": null,
   "id": "a91841d1-f449-4011-b4ae-d8c5559edfce",
   "metadata": {},
   "outputs": [],
   "source": []
  },
  {
   "cell_type": "code",
   "execution_count": null,
   "id": "1b37f18e-1da8-4b73-8355-261689f1016a",
   "metadata": {},
   "outputs": [],
   "source": []
  },
  {
   "cell_type": "code",
   "execution_count": null,
   "id": "680717ce-b2e5-4b01-bf25-0982b122eb54",
   "metadata": {},
   "outputs": [],
   "source": []
  }
 ],
 "metadata": {
  "kernelspec": {
   "display_name": "env_shuler",
   "language": "python",
   "name": "env_shuler"
  },
  "language_info": {
   "codemirror_mode": {
    "name": "ipython",
    "version": 3
   },
   "file_extension": ".py",
   "mimetype": "text/x-python",
   "name": "python",
   "nbconvert_exporter": "python",
   "pygments_lexer": "ipython3",
   "version": "3.8.15"
  }
 },
 "nbformat": 4,
 "nbformat_minor": 5
}
