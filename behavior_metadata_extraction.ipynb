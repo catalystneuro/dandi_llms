{
 "cells": [
  {
   "cell_type": "markdown",
   "metadata": {},
   "source": [
    "# Infer Neuro Behavioral Ontology terms from text"
   ]
  },
  {
   "cell_type": "markdown",
   "metadata": {},
   "source": [
    "\n",
    "Two big steps:\n",
    "* Use zero-shot learning as an NER to extract behavioral terms from specific sections of research papers.\n",
    "* Use vector databases to ground the terms to specific concepts in the [Neuro Behavioral Ontology](https://www.ebi.ac.uk/ols4/ontologies/nbo?tab=classes).\n",
    "\n",
    "\n",
    "![Alt text](<2023-070-27(Neuro Behavioral Ontology).svg>)\n",
    "\n"
   ]
  },
  {
   "cell_type": "markdown",
   "metadata": {},
   "source": [
    "# Pipeline"
   ]
  },
  {
   "cell_type": "code",
   "execution_count": 1,
   "metadata": {},
   "outputs": [
    {
     "name": "stdout",
     "output_type": "stream",
     "text": [
      "The autoreload extension is already loaded. To reload it, use:\n",
      "  %reload_ext autoreload\n"
     ]
    }
   ],
   "source": [
    "import pprint\n",
    "from pathlib import Path\n",
    "import os \n",
    "\n",
    "\n",
    "from repo_secrets import OPENAI_API_KEY\n",
    "from repo_secrets import QDRANT_API_KEY\n",
    "\n",
    "os.environ[\"OPENAI_API_KEY\"] = OPENAI_API_KEY\n",
    "os.environ[\"QDRANT_API_KEY\"] = QDRANT_API_KEY\n",
    "\n",
    "%load_ext autoreload\n",
    "%autoreload 2"
   ]
  },
  {
   "cell_type": "markdown",
   "metadata": {},
   "source": [
    "## Methods text from the paper"
   ]
  },
  {
   "cell_type": "code",
   "execution_count": 2,
   "metadata": {},
   "outputs": [
    {
     "name": "stdout",
     "output_type": "stream",
     "text": [
      "('Co-housing\\n'\n",
      " 'Pup-naive C57Bl/6 virgin female mice were bred and raised at NYU School of '\n",
      " 'Medicine and kept isolated from dams and pups until used for these studies '\n",
      " 'when approximately eight weeks old. For experiments where viral injections '\n",
      " 'were performed, we first allowed two weeks for viral expression before '\n",
      " 'animals were used in experiments. Dams were initially pre-screened to ensure '\n",
      " 'they behaved maternally, meaning that they retrieved pups and built nests; '\n",
      " 'about 1% of dams did not retrieve pups and these animals were not used for '\n",
      " 'co-housing. Naive virgins were initially pre-screened for retrieval or pup '\n",
      " 'mauling before co-housing; around 5% of the naive virgins retrieved at least '\n",
      " 'one pup or mauled pups during pre-screening and these mice were excluded '\n",
      " 'from subsequent behavioural studies.\\n'\n",
      " '\\n'\n",
      " 'Co-housing of a virgin female with a mother and litter was conducted for 4–6 '\n",
      " 'consecutive days in 80 × 40 × 50 cm plastic home cages. The floor was '\n",
      " 'covered with abundant bedding material, food pellets and a pack of hydrogel '\n",
      " 'for hydration placed in a corner of the bin and refreshed daily. Nesting '\n",
      " 'material was also placed in the cage. We first placed the dam and her '\n",
      " 'postnatal day 1 (P1) litter in the cage. After the dam was acclimatized for '\n",
      " '~30\\u2009min, we introduced the virgin female with a tail mark for '\n",
      " 'identification. Well-being of the adult mice and pups was monitored at least '\n",
      " 'twice a day. A surveillance infrared camera system (Blackrock Microsystems) '\n",
      " 'was positioned ~100 cm above the home cage to capture the entire surface. An '\n",
      " 'ultrasonic microphone (Avisoft) was placed in the corner of the cage, ~10 cm '\n",
      " 'above the nest. Two initial cages had a second camera placed on the side but '\n",
      " 'these videos were not analysed for these experiments. For studies of '\n",
      " 'spontaneous pup retrieval by dams and the influence of co-housing, some dams '\n",
      " 'were singly housed with their litter but not with other adults.\\n'\n",
      " '\\n'\n",
      " 'In cases where co-housing was done only between a virgin female and pups '\n",
      " '(Fig. 1c), the pups were returned to the donor mother every 12 h (for at '\n",
      " 'least 48 h) and immediately replaced with new pups. This was done to ensure '\n",
      " 'that they stay alive and healthy despite not being fed during co-housing '\n",
      " 'with the virgin. The procedure was repeated throughout the duration of the '\n",
      " 'co-housing27.\\n'\n",
      " ' \\n'\n",
      " 'Pup retrieval testing\\n'\n",
      " 'This test was used for the initial screening of dams and virgin female mice. '\n",
      " 'In addition, outside of the spontaneous home cage behaviours, we '\n",
      " 'specifically monitored pup retrieval every 24\\u2009h by the virgin females. '\n",
      " 'We placed the female mouse to be tested in a behavioural arena (38 × 30 × 15 '\n",
      " 'cm) containing bedding and nesting material; the female was alone, without '\n",
      " 'contact with other animals. Each animal was given 20\\u2009min to acclimatize '\n",
      " 'before each testing session began. The entire litter (ranging from 3 to 7 '\n",
      " 'P1–4 pups) were grouped in a corner of the arena and covered with nesting '\n",
      " 'material, and the adult female given an additional 2 min of acclimatization '\n",
      " '(pup group size did not affect retrieval behaviour; Extended Data Fig. 2c). '\n",
      " 'One pup was removed from the nest and placed in an opposite corner of the '\n",
      " 'arena. The experimental female was given 2 min per trial to retrieve the '\n",
      " 'displaced pup and return it back to the nest; if the displaced pup was not '\n",
      " 'retrieved within 2 min, the pup was returned to the nest and the trial was '\n",
      " 'scored as a failure. If the pup was successfully retrieved, the time to '\n",
      " 'retrieval was recorded and the trial was scored as a success. Another pup '\n",
      " 'was then taken out of the nest, placed away from the nest (varying the '\n",
      " 'position of the isolated pup relative to the nest from trial to trial), and '\n",
      " 'the next trial was begun. After ten trials, pups were placed back into their '\n",
      " 'home cage with their dam. We used an ultrasonic microphone (Avisoft) to '\n",
      " 'verify that isolated pups vocalized during testing.\\n'\n",
      " '\\n'\n",
      " 'We reported probability of retrieving out of ten trials. Reliable retrieval '\n",
      " 'was defined as having at least two out of ten successful trials. We used '\n",
      " 'two-way ANOVA and Sidak’s multiple-comparison test corrections to compare '\n",
      " 'probability of retrieving in each group over days, and Student’s t-test to '\n",
      " 'compare the day of retrieval onset for each group.\\n'\n",
      " ' \\n'\n",
      " 'Video and audio analysis\\n'\n",
      " 'Video and audio recordings were synchronized with the neuronal recordings, '\n",
      " 'and then analysed with Adobe Audition and Avisoft. For video recordings we '\n",
      " 'used the BORIS suite for scoring of behavioural observations. Three separate '\n",
      " 'teams of independent scorers (two scorers from the Sullivan laboratory, '\n",
      " 'three scorers from the Carcea laboratory and four scorers from the Froemke '\n",
      " 'laboratory) were trained in a similar way on how to identify relevant '\n",
      " 'individual and social behaviours during co-housing, and then scored the '\n",
      " 'videos blind to the conditions. The results from each raster were compared '\n",
      " 'and compiled, and results from each lab were cross-validated. Nest entry was '\n",
      " 'considered the moment when the head of the animal entered the nest. Nest '\n",
      " 'exit was considered the time when the rear of the animal left the nest. We '\n",
      " 'used two-way ANOVA and Sidak’s multiple-comparison test to compare pup '\n",
      " 'retrieval rates and time in nest across days for each group.\\n'\n",
      " '\\n'\n",
      " 'Any event in which the dam chased the virgin towards the nest was identified '\n",
      " 'as a shepherding event (that is, where distance from start to nest was '\n",
      " 'greater than distance from end to nest). To determine the distance from nest '\n",
      " 'during shepherding, we measured the distance from the bottom left corner of '\n",
      " 'the cage to the position of the snout of the mouse, and to the position of '\n",
      " 'the nest center. We then calculated distance from the virgin to nest. In '\n",
      " 'cases of physical contact, start of shepherding was considered to be the '\n",
      " 'moment when the dam made contact with the virgin, and the end of shepherding '\n",
      " 'was the moment when the virgin stopped running. In some cases (especially '\n",
      " 'later into co-housing), we noticed that virgins started running as soon as '\n",
      " 'they noticed the dam approaching; in those cases, the start of shepherding '\n",
      " 'was considered to be the moment when the virgins started running after the '\n",
      " 'dam’s approach. For Fig. 1i, we used paired t-tests to compare distance from '\n",
      " 'start of shepherding to nest with the distance from end of shepherding to '\n",
      " 'nest. For Fig. 1j, we used one-sample Student’s t-tests to determine if the '\n",
      " 'daily frequency of shepherding was higher than 0.2 events per h (which was '\n",
      " 'the average rate of dam–virgin chases in absence of pups). Audio recordings '\n",
      " 'were processed in Adobe Audition, and isolation or distress calls were '\n",
      " 'distinguished from adult calls and wriggling calls on the basis of the '\n",
      " 'characteristic statistics (bout rate of 4–8 Hz and frequencies of 40–90 '\n",
      " 'kHz).\\n'\n",
      " ' \\n'\n",
      " 'Observation of experienced retrievers\\n'\n",
      " 'We first confirmed that virgins did not retrieve and dams retrieved at 100% '\n",
      " 'at baseline. The exposures were done in standard behavioural arena (38 × 30 '\n",
      " '× 15 cm). The virgin and dam were acclimatized for 20\\u2009min, then the '\n",
      " 'nest with pups was transferred to this arena. After another 5–10\\u2009min, '\n",
      " 'we manually isolated one pup at a time so that the dam would retrieve the '\n",
      " 'pup back into the nest. We repeated this for ten times per session. In the '\n",
      " 'experiments where either a transparent or an opaque divided the cage, the '\n",
      " 'two adult animals were acclimatized on opposite sides of the barriers. After '\n",
      " 'exposure, the adult animals were separated and the virgins were tested for '\n",
      " 'pup retrieval 30\\u2009min later, as described above. As the preparation for '\n",
      " 'testing and the acclimatization to the testing cage also took 30\\u2009min, '\n",
      " 'this amounted to a total 60-min interval between virgin observation and '\n",
      " 'testing of responses to isolated pups. The exposure was repeated for four '\n",
      " 'sessions (one per day). A virgin that retrieved at least once during the '\n",
      " 'four days of observation was considered as having acquired pup retrieval '\n",
      " 'behaviour. We used chi-square exact tests to compare retrieval between '\n",
      " 'conditions: wild-type mice with no barrier, wild-type mice with transparent '\n",
      " 'barrier, wild-type mice with opaque barrier, and OXTR-KO virgins with '\n",
      " 'transparent barrier.  \\n')\n"
     ]
    }
   ],
   "source": [
    "# https://www.nature.com/articles/s41586-021-03814-7#Sec9\n",
    "\n",
    "co_housing_text = (\n",
    "\"\"\"Co-housing\n",
    "Pup-naive C57Bl/6 virgin female mice were bred and raised at NYU School of Medicine and kept isolated from dams and pups until used for these studies when approximately eight weeks old. For experiments where viral injections were performed, we first allowed two weeks for viral expression before animals were used in experiments. Dams were initially pre-screened to ensure they behaved maternally, meaning that they retrieved pups and built nests; about 1% of dams did not retrieve pups and these animals were not used for co-housing. Naive virgins were initially pre-screened for retrieval or pup mauling before co-housing; around 5% of the naive virgins retrieved at least one pup or mauled pups during pre-screening and these mice were excluded from subsequent behavioural studies.\n",
    "\n",
    "Co-housing of a virgin female with a mother and litter was conducted for 4–6 consecutive days in 80 × 40 × 50 cm plastic home cages. The floor was covered with abundant bedding material, food pellets and a pack of hydrogel for hydration placed in a corner of the bin and refreshed daily. Nesting material was also placed in the cage. We first placed the dam and her postnatal day 1 (P1) litter in the cage. After the dam was acclimatized for ~30 min, we introduced the virgin female with a tail mark for identification. Well-being of the adult mice and pups was monitored at least twice a day. A surveillance infrared camera system (Blackrock Microsystems) was positioned ~100 cm above the home cage to capture the entire surface. An ultrasonic microphone (Avisoft) was placed in the corner of the cage, ~10 cm above the nest. Two initial cages had a second camera placed on the side but these videos were not analysed for these experiments. For studies of spontaneous pup retrieval by dams and the influence of co-housing, some dams were singly housed with their litter but not with other adults.\n",
    "\n",
    "In cases where co-housing was done only between a virgin female and pups (Fig. 1c), the pups were returned to the donor mother every 12 h (for at least 48 h) and immediately replaced with new pups. This was done to ensure that they stay alive and healthy despite not being fed during co-housing with the virgin. The procedure was repeated throughout the duration of the co-housing27.\n",
    "\"\"\"\n",
    ")\n",
    "\n",
    "pup_retrieval_text = (\n",
    "\"\"\"\n",
    "Pup retrieval testing\n",
    "This test was used for the initial screening of dams and virgin female mice. In addition, outside of the spontaneous home cage behaviours, we specifically monitored pup retrieval every 24 h by the virgin females. We placed the female mouse to be tested in a behavioural arena (38 × 30 × 15 cm) containing bedding and nesting material; the female was alone, without contact with other animals. Each animal was given 20 min to acclimatize before each testing session began. The entire litter (ranging from 3 to 7 P1–4 pups) were grouped in a corner of the arena and covered with nesting material, and the adult female given an additional 2 min of acclimatization (pup group size did not affect retrieval behaviour; Extended Data Fig. 2c). One pup was removed from the nest and placed in an opposite corner of the arena. The experimental female was given 2 min per trial to retrieve the displaced pup and return it back to the nest; if the displaced pup was not retrieved within 2 min, the pup was returned to the nest and the trial was scored as a failure. If the pup was successfully retrieved, the time to retrieval was recorded and the trial was scored as a success. Another pup was then taken out of the nest, placed away from the nest (varying the position of the isolated pup relative to the nest from trial to trial), and the next trial was begun. After ten trials, pups were placed back into their home cage with their dam. We used an ultrasonic microphone (Avisoft) to verify that isolated pups vocalized during testing.\n",
    "\n",
    "We reported probability of retrieving out of ten trials. Reliable retrieval was defined as having at least two out of ten successful trials. We used two-way ANOVA and Sidak’s multiple-comparison test corrections to compare probability of retrieving in each group over days, and Student’s t-test to compare the day of retrieval onset for each group.\n",
    "\"\"\"\n",
    ")\n",
    "\n",
    "video_and_audio_analysis = (\n",
    "\"\"\"\n",
    "Video and audio analysis\n",
    "Video and audio recordings were synchronized with the neuronal recordings, and then analysed with Adobe Audition and Avisoft. For video recordings we used the BORIS suite for scoring of behavioural observations. Three separate teams of independent scorers (two scorers from the Sullivan laboratory, three scorers from the Carcea laboratory and four scorers from the Froemke laboratory) were trained in a similar way on how to identify relevant individual and social behaviours during co-housing, and then scored the videos blind to the conditions. The results from each raster were compared and compiled, and results from each lab were cross-validated. Nest entry was considered the moment when the head of the animal entered the nest. Nest exit was considered the time when the rear of the animal left the nest. We used two-way ANOVA and Sidak’s multiple-comparison test to compare pup retrieval rates and time in nest across days for each group.\n",
    "\n",
    "Any event in which the dam chased the virgin towards the nest was identified as a shepherding event (that is, where distance from start to nest was greater than distance from end to nest). To determine the distance from nest during shepherding, we measured the distance from the bottom left corner of the cage to the position of the snout of the mouse, and to the position of the nest center. We then calculated distance from the virgin to nest. In cases of physical contact, start of shepherding was considered to be the moment when the dam made contact with the virgin, and the end of shepherding was the moment when the virgin stopped running. In some cases (especially later into co-housing), we noticed that virgins started running as soon as they noticed the dam approaching; in those cases, the start of shepherding was considered to be the moment when the virgins started running after the dam’s approach. For Fig. 1i, we used paired t-tests to compare distance from start of shepherding to nest with the distance from end of shepherding to nest. For Fig. 1j, we used one-sample Student’s t-tests to determine if the daily frequency of shepherding was higher than 0.2 events per h (which was the average rate of dam–virgin chases in absence of pups). Audio recordings were processed in Adobe Audition, and isolation or distress calls were distinguished from adult calls and wriggling calls on the basis of the characteristic statistics (bout rate of 4–8 Hz and frequencies of 40–90 kHz).\n",
    "\"\"\"\n",
    ")\n",
    "\n",
    "\n",
    "observation_of_experienced_retrievers = (\n",
    "\"\"\"\n",
    "Observation of experienced retrievers\n",
    "We first confirmed that virgins did not retrieve and dams retrieved at 100% at baseline. The exposures were done in standard behavioural arena (38 × 30 × 15 cm). The virgin and dam were acclimatized for 20 min, then the nest with pups was transferred to this arena. After another 5–10 min, we manually isolated one pup at a time so that the dam would retrieve the pup back into the nest. We repeated this for ten times per session. In the experiments where either a transparent or an opaque divided the cage, the two adult animals were acclimatized on opposite sides of the barriers. After exposure, the adult animals were separated and the virgins were tested for pup retrieval 30 min later, as described above. As the preparation for testing and the acclimatization to the testing cage also took 30 min, this amounted to a total 60-min interval between virgin observation and testing of responses to isolated pups. The exposure was repeated for four sessions (one per day). A virgin that retrieved at least once during the four days of observation was considered as having acquired pup retrieval behaviour. We used chi-square exact tests to compare retrieval between conditions: wild-type mice with no barrier, wild-type mice with transparent barrier, wild-type mice with opaque barrier, and OXTR-KO virgins with transparent barrier.  \n",
    "\"\"\"\n",
    ")\n",
    "\n",
    "methods_text = (\n",
    "    f\"{co_housing_text} {pup_retrieval_text} {video_and_audio_analysis} {observation_of_experienced_retrievers}\" \n",
    ")\n",
    "\n",
    "pprint.pprint(methods_text)"
   ]
  },
  {
   "cell_type": "markdown",
   "metadata": {},
   "source": [
    "## Zero-short Named Entity Recognition with LLMs"
   ]
  },
  {
   "cell_type": "code",
   "execution_count": 3,
   "metadata": {},
   "outputs": [
    {
     "data": {
      "text/plain": [
       "['Pup retrieval: The act of the adult female mouse retrieving a displaced pup and returning it back to the nest.',\n",
       " 'Nest entry: The moment when the head of the animal enters the nest.',\n",
       " 'Nest exit: The time when the rear of the animal leaves the nest.',\n",
       " 'Shepherding event: Any event in which the dam chases the virgin towards the nest, with the distance from start to nest being greater than the distance from end to nest.',\n",
       " 'Isolation or distress calls: Calls made by the pups that indicate isolation or distress, distinguished from adult calls and wriggling calls based on characteristic statistics (bout rate of 4-8 Hz and frequencies of 40-90 kHz).',\n",
       " 'Acquired pup retrieval behavior: The behavior of the virgin female mouse retrieving at least once during the four days of observation.']"
      ]
     },
     "execution_count": 3,
     "metadata": {},
     "output_type": "execute_result"
    }
   ],
   "source": [
    "from utils.beahvior_meatdata_extraction import extract_behavior_metadata_from\n",
    "\n",
    "section = methods_text\n",
    "behaviors = extract_behavior_metadata_from(section)\n",
    "behaviors"
   ]
  },
  {
   "cell_type": "markdown",
   "metadata": {},
   "source": [
    "## Ground with vector databases"
   ]
  },
  {
   "cell_type": "code",
   "execution_count": 5,
   "metadata": {},
   "outputs": [],
   "source": [
    "from utils.beahvior_meatdata_extraction import ground_metadata_in_ontologies_multiple_query\n",
    "\n",
    "terms_list = behaviors\n",
    "queries_response_list = ground_metadata_in_ontologies_multiple_query(term_list=behaviors)"
   ]
  },
  {
   "cell_type": "code",
   "execution_count": 6,
   "metadata": {},
   "outputs": [
    {
     "data": {
      "text/plain": [
       "[('chase prey',\n",
       "  'NBO:0020040',\n",
       "  'http://purl.obolibrary.org/obo/NBO_0020040',\n",
       "  'Shepherding event: Any event in which the dam chases the virgin towards the nest, with the distance from start to nest being greater than the distance from end to nest.'),\n",
       " ('nest building behavior',\n",
       "  'NBO:0000157',\n",
       "  'http://purl.obolibrary.org/obo/NBO_0000157',\n",
       "  'Nest exit: The time when the rear of the animal leaves the nest.'),\n",
       " ('nest building behavior',\n",
       "  'NBO:0000157',\n",
       "  'http://purl.obolibrary.org/obo/NBO_0000157',\n",
       "  'Nest entry: The moment when the head of the animal enters the nest.'),\n",
       " ('offspring retrieval',\n",
       "  'NBO:0000155',\n",
       "  'http://purl.obolibrary.org/obo/NBO_0000155',\n",
       "  'Acquired pup retrieval behavior: The behavior of the virgin female mouse retrieving at least once during the four days of observation.'),\n",
       " ('distress signaling',\n",
       "  'NBO:0020149',\n",
       "  'http://purl.obolibrary.org/obo/NBO_0020149',\n",
       "  'Isolation or distress calls: Calls made by the pups that indicate isolation or distress, distinguished from adult calls and wriggling calls based on characteristic statistics (bout rate of 4-8 Hz and frequencies of 40-90 kHz).'),\n",
       " ('offspring retrieval',\n",
       "  'NBO:0000155',\n",
       "  'http://purl.obolibrary.org/obo/NBO_0000155',\n",
       "  'Pup retrieval: The act of the adult female mouse retrieving a displaced pup and returning it back to the nest.')]"
      ]
     },
     "execution_count": 6,
     "metadata": {},
     "output_type": "execute_result"
    }
   ],
   "source": [
    "best_results = [(q['names'][0], q[\"ids\"][0], q[\"urls\"][0], q[\"context\"]) for q in queries_response_list]\n",
    "best_results"
   ]
  },
  {
   "cell_type": "markdown",
   "metadata": {},
   "source": [
    "# Post Processing (optional showcase)\n",
    "## High recall method followed by reranking with high precision\n",
    "\n",
    "Another popular methodology with information retrieval is to use a high recall method to extract a large number of terms and then re-rank them with a more specific method. \n",
    "\n",
    " This is a proof of concept of how this could be accomplished building upon the previous machinery.\n",
    "\n",
    "The idea is simple, instead of only returning the best result from semantic similarity, we return the top 10 results and then re-rank them with either an LLM or a more traditional NLP method such as bm25 to prune down the results\n"
   ]
  },
  {
   "cell_type": "code",
   "execution_count": 7,
   "metadata": {},
   "outputs": [
    {
     "data": {
      "text/plain": [
       "{'Shepherding event: Any event in which the dam chases the virgin towards the nest, with the distance from start to nest being greater than the distance from end to nest.': ['chase prey',\n",
       "  'agonistic chase',\n",
       "  'nest building behavior',\n",
       "  'mate guarding',\n",
       "  'mating amplexus',\n",
       "  'flush prey',\n",
       "  'hunt for mate',\n",
       "  'sexual harassment',\n",
       "  'hunting behavior',\n",
       "  'female courtship behavior'],\n",
       " 'Nest exit: The time when the rear of the animal leaves the nest.': ['nest building behavior',\n",
       "  'flee',\n",
       "  'flush prey',\n",
       "  'mouth brooding',\n",
       "  'agonistic chase',\n",
       "  'autotomy',\n",
       "  'chase prey',\n",
       "  'capturing prey',\n",
       "  'predator avoidance behavior',\n",
       "  'distress signaling'],\n",
       " 'Nest entry: The moment when the head of the animal enters the nest.': ['nest building behavior',\n",
       "  'mouth brooding',\n",
       "  'swallowing',\n",
       "  'facilitating oviposition',\n",
       "  'capturing prey',\n",
       "  'flush prey',\n",
       "  'courtship begging',\n",
       "  'maternal crouching',\n",
       "  'biting',\n",
       "  'trapping behavior'],\n",
       " 'Acquired pup retrieval behavior: The behavior of the virgin female mouse retrieving at least once during the four days of observation.': ['offspring retrieval',\n",
       "  'submissive behavior towards male mice',\n",
       "  'aggressive behavior towards female mice',\n",
       "  'clutching reflex',\n",
       "  'aggressive behavior towards pups',\n",
       "  'mouth brooding',\n",
       "  'aggressive behavior towards male mice',\n",
       "  'imprinting behavior',\n",
       "  'predator avoidance behavior',\n",
       "  'maternal crouching'],\n",
       " 'Isolation or distress calls: Calls made by the pups that indicate isolation or distress, distinguished from adult calls and wriggling calls based on characteristic statistics (bout rate of 4-8 Hz and frequencies of 40-90 kHz).': ['distress signaling',\n",
       "  'mobbing calling',\n",
       "  'distress behavior',\n",
       "  'mobbing calling phenotype',\n",
       "  'nuzzling',\n",
       "  'reproductive status assessment',\n",
       "  'phonotaxis',\n",
       "  'aggressive behavior towards pups',\n",
       "  'promote confusion',\n",
       "  'imprinting behavior'],\n",
       " 'Pup retrieval: The act of the adult female mouse retrieving a displaced pup and returning it back to the nest.': ['offspring retrieval',\n",
       "  'aggressive behavior towards pups',\n",
       "  'mouth brooding',\n",
       "  'aggressive behavior towards female mice',\n",
       "  'maternal crouching',\n",
       "  'clutching reflex',\n",
       "  'submissive behavior towards male mice',\n",
       "  'aggressive behavior towards male mice',\n",
       "  'chase prey',\n",
       "  'facilitating oviposition']}"
      ]
     },
     "execution_count": 7,
     "metadata": {},
     "output_type": "execute_result"
    }
   ],
   "source": [
    "neuro_ontology_terms_found = dict()\n",
    "urls_per_term = dict()\n",
    "\n",
    "for query_response in queries_response_list:\n",
    "    context_term = query_response[\"context\"]\n",
    "    neuro_ontology_terms_found[context_term] = query_response[\"names\"]\n",
    "    urls_per_term[context_term] = query_response[\"urls\"]\n",
    "    \n",
    "    \n",
    "neuro_ontology_terms_found\n"
   ]
  },
  {
   "cell_type": "code",
   "execution_count": 17,
   "metadata": {},
   "outputs": [
    {
     "name": "stdout",
     "output_type": "stream",
     "text": [
      "['agonistic chase']\n",
      "[1]\n",
      "['flee']\n",
      "[1]\n",
      "['nest building behavior']\n",
      "[0]\n",
      "['offspring retrieval']\n",
      "[0]\n",
      "['distress signaling']\n",
      "[0]\n",
      "['offspring retrieval']\n",
      "[0]\n"
     ]
    },
    {
     "data": {
      "text/plain": [
       "[{'names': ['agonistic chase'],\n",
       "  'id': ['NBO:0020141'],\n",
       "  'context': 'Shepherding event: Any event in which the dam chases the virgin towards the nest, with the distance from start to nest being greater than the distance from end to nest.',\n",
       "  'url': ['http://purl.obolibrary.org/obo/NBO_0020141']},\n",
       " {'names': ['flee'],\n",
       "  'id': ['NBO:0020268'],\n",
       "  'context': 'Nest exit: The time when the rear of the animal leaves the nest.',\n",
       "  'url': ['http://purl.obolibrary.org/obo/NBO_0020268']},\n",
       " {'names': ['nest building behavior'],\n",
       "  'id': ['NBO:0000157'],\n",
       "  'context': 'Nest entry: The moment when the head of the animal enters the nest.',\n",
       "  'url': ['http://purl.obolibrary.org/obo/NBO_0000157']},\n",
       " {'names': ['offspring retrieval'],\n",
       "  'id': ['NBO:0000155'],\n",
       "  'context': 'Acquired pup retrieval behavior: The behavior of the virgin female mouse retrieving at least once during the four days of observation.',\n",
       "  'url': ['http://purl.obolibrary.org/obo/NBO_0000155']},\n",
       " {'names': ['distress signaling'],\n",
       "  'id': ['NBO:0020149'],\n",
       "  'context': 'Isolation or distress calls: Calls made by the pups that indicate isolation or distress, distinguished from adult calls and wriggling calls based on characteristic statistics (bout rate of 4-8 Hz and frequencies of 40-90 kHz).',\n",
       "  'url': ['http://purl.obolibrary.org/obo/NBO_0020149']},\n",
       " {'names': ['offspring retrieval'],\n",
       "  'id': ['NBO:0000155'],\n",
       "  'context': 'Pup retrieval: The act of the adult female mouse retrieving a displaced pup and returning it back to the nest.',\n",
       "  'url': ['http://purl.obolibrary.org/obo/NBO_0000155']}]"
      ]
     },
     "execution_count": 17,
     "metadata": {},
     "output_type": "execute_result"
    }
   ],
   "source": [
    "from utils.beahvior_meatdata_extraction import rerank_with_open_ai_use_name_matching\n",
    "\n",
    "\n",
    "ontology_terms = rerank_with_open_ai_use_name_matching(queries_response_list, top=3, verbose=False)\n",
    "ontology_terms"
   ]
  },
  {
   "cell_type": "code",
   "execution_count": 13,
   "metadata": {},
   "outputs": [
    {
     "data": {
      "text/plain": [
       "[[('mate guarding',\n",
       "   'NBO:0020054',\n",
       "   6.839994579555169,\n",
       "   'http://purl.obolibrary.org/obo/NBO_0020054'),\n",
       "  ('flush prey',\n",
       "   'NBO:0020045',\n",
       "   4.773015262168616,\n",
       "   'http://purl.obolibrary.org/obo/NBO_0020045'),\n",
       "  ('female courtship behavior',\n",
       "   'NBO:0000638',\n",
       "   3.819740267160129,\n",
       "   'http://purl.obolibrary.org/obo/NBO_0000638')],\n",
       " [('mouth brooding',\n",
       "   'NBO:0020102',\n",
       "   4.181499051361774,\n",
       "   'http://purl.obolibrary.org/obo/NBO_0020102'),\n",
       "  ('agonistic chase',\n",
       "   'NBO:0020141',\n",
       "   1.1978734492783532,\n",
       "   'http://purl.obolibrary.org/obo/NBO_0020141'),\n",
       "  ('distress signaling',\n",
       "   'NBO:0020149',\n",
       "   0.7455789251727976,\n",
       "   'http://purl.obolibrary.org/obo/NBO_0020149')],\n",
       " [('swallowing',\n",
       "   'NBO:0000545',\n",
       "   2.798837478004093,\n",
       "   'http://purl.obolibrary.org/obo/NBO_0000545'),\n",
       "  ('biting',\n",
       "   'NBO:0000017',\n",
       "   1.9777687699797122,\n",
       "   'http://purl.obolibrary.org/obo/NBO_0000017'),\n",
       "  ('mouth brooding',\n",
       "   'NBO:0020102',\n",
       "   1.8504408431364996,\n",
       "   'http://purl.obolibrary.org/obo/NBO_0020102')],\n",
       " [('aggressive behavior towards female mice',\n",
       "   'NBO:0000111',\n",
       "   2.5552816747249842,\n",
       "   'http://purl.obolibrary.org/obo/NBO_0000111'),\n",
       "  ('clutching reflex',\n",
       "   'NBO:0000584',\n",
       "   2.241233149111682,\n",
       "   'http://purl.obolibrary.org/obo/NBO_0000584'),\n",
       "  ('offspring retrieval',\n",
       "   'NBO:0000155',\n",
       "   2.0610038650317897,\n",
       "   'http://purl.obolibrary.org/obo/NBO_0000155')],\n",
       " [('reproductive status assessment',\n",
       "   'NBO:0020010',\n",
       "   5.326165749373763,\n",
       "   'http://purl.obolibrary.org/obo/NBO_0020010'),\n",
       "  ('mobbing calling phenotype',\n",
       "   'NBO:0000776',\n",
       "   4.426085596642391,\n",
       "   'http://purl.obolibrary.org/obo/NBO_0000776'),\n",
       "  ('distress signaling',\n",
       "   'NBO:0020149',\n",
       "   3.2348473145046874,\n",
       "   'http://purl.obolibrary.org/obo/NBO_0020149')],\n",
       " [('offspring retrieval',\n",
       "   'NBO:0000155',\n",
       "   3.4180139799390545,\n",
       "   'http://purl.obolibrary.org/obo/NBO_0000155'),\n",
       "  ('aggressive behavior towards female mice',\n",
       "   'NBO:0000111',\n",
       "   2.455401730671371,\n",
       "   'http://purl.obolibrary.org/obo/NBO_0000111'),\n",
       "  ('submissive behavior towards male mice',\n",
       "   'NBO:0000125',\n",
       "   2.317775081801057,\n",
       "   'http://purl.obolibrary.org/obo/NBO_0000125')]]"
      ]
     },
     "execution_count": 13,
     "metadata": {},
     "output_type": "execute_result"
    }
   ],
   "source": [
    "from utils.beahvior_meatdata_extraction import rerank_with_bm25\n",
    "\n",
    "ontology_terms = rerank_with_bm25(queries_response_list, top=3)\n",
    "ontology_terms"
   ]
  },
  {
   "cell_type": "code",
   "execution_count": null,
   "metadata": {},
   "outputs": [],
   "source": []
  }
 ],
 "metadata": {
  "kernelspec": {
   "display_name": "dandi_llm_env",
   "language": "python",
   "name": "python3"
  },
  "language_info": {
   "codemirror_mode": {
    "name": "ipython",
    "version": 3
   },
   "file_extension": ".py",
   "mimetype": "text/x-python",
   "name": "python",
   "nbconvert_exporter": "python",
   "pygments_lexer": "ipython3",
   "version": "3.11.4"
  },
  "orig_nbformat": 4
 },
 "nbformat": 4,
 "nbformat_minor": 2
}
