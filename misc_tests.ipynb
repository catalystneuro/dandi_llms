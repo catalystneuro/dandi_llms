{
 "cells": [
  {
   "cell_type": "code",
   "execution_count": null,
   "id": "5c00e453-b930-4256-923b-65f0f0d69336",
   "metadata": {},
   "outputs": [],
   "source": []
  },
  {
   "cell_type": "code",
   "execution_count": 1,
   "id": "657b9a5f-4055-4a29-835b-1cc76c450a40",
   "metadata": {},
   "outputs": [],
   "source": [
    "from langchain.chat_models import ChatOpenAI\n",
    "from langchain.embeddings.openai import OpenAIEmbeddings\n",
    "from langchain.retrievers.multi_query import MultiQueryRetriever\n",
    "from langchain.vectorstores import Qdrant\n",
    "from qdrant_client import QdrantClient"
   ]
  },
  {
   "cell_type": "code",
   "execution_count": 2,
   "id": "5b0b1f8f-66f3-4948-b750-3a8a96b91d5b",
   "metadata": {},
   "outputs": [],
   "source": [
    "qdrant_client = QdrantClient(host=\"localhost\")\n",
    "vectordb = Qdrant(\n",
    "    client=qdrant_client, \n",
    "    collection_name=\"dandi_collection\",\n",
    "    embeddings=OpenAIEmbeddings(),\n",
    "    content_payload_key=\"text_content\",\n",
    ")"
   ]
  },
  {
   "cell_type": "code",
   "execution_count": 4,
   "id": "c5d2c2f2-650f-48cd-a4ce-bf72a450f4c7",
   "metadata": {},
   "outputs": [
    {
     "name": "stderr",
     "output_type": "stream",
     "text": [
      "INFO:httpx:HTTP Request: POST http://localhost:6333/collections/dandi_collection/points/search \"HTTP/1.1 200 OK\"\n"
     ]
    },
    {
     "data": {
      "text/plain": [
       "[Document(page_content='description: Whole-cell Patch-seq recordings from neurons of the mouse visual cortex from the Allen Institute for Brain Science, released in June 2020. The majority of cells in this dataset are GABAergic interneurons, but there are also a small number of glutamatergic neurons from layer 2/3 of the mouse visual cortex.', metadata={}),\n",
       " Document(page_content='title: Glia Accumulate Evidence that Actions Are Futile and Suppress Unsuccessful Behavior', metadata={}),\n",
       " Document(page_content='description: Data from \"Physiological Properties and Behavioral Correlates of Hippocampal Granule Cells and Mossy Cells\" Senzai, Buzsaki, Neuron 2017. Electrophysiology recordings of hippocampus during theta maze exploration.', metadata={}),\n",
       " Document(page_content='description: When a behavior repeatedly fails to achieve its goal, animals often give up and become passive, which can be strategic for preserving energy or regrouping between attempts. It is unknown how the brain identifies behavioral failures and mediates this behavioral-state switch. In larval zebrafish swimming in virtual reality, visual feedback can be withheld so that swim attempts fail to trigger expected visual flow. After tens of seconds of such motor futility, animals became passive for similar durations. Whole-brain calcium imaging revealed noradrenergic neurons that responded specifically to failed swim attempts and radial astrocytes whose calcium levels accumulated with increasing numbers of failed attempts. Using cell ablation and optogenetic or chemogenetic activation, we found that noradrenergic neurons progressively activated brainstem radial astrocytes, which then suppressed swimming. Thus, radial astrocytes perform a computation critical for behavior: they accumulate evidence that current actions are ineffective and consequently drive changes in behavioral states.', metadata={})]"
      ]
     },
     "execution_count": 4,
     "metadata": {},
     "output_type": "execute_result"
    }
   ],
   "source": [
    "vectordb.similarity_search(\"glial cells\")"
   ]
  },
  {
   "cell_type": "code",
   "execution_count": 5,
   "id": "3c401ae5-298a-418d-bb99-b7b8b751d93c",
   "metadata": {},
   "outputs": [],
   "source": [
    "num_queries = 3\n",
    "retriever_from_llm = MultiQueryRetriever.from_llm(\n",
    "    retriever=vectordb.as_retriever(),\n",
    "    llm=ChatOpenAI(temperature=0)\n",
    ")"
   ]
  },
  {
   "cell_type": "code",
   "execution_count": 7,
   "id": "a161f3c9-9faf-42cb-9284-145849048c58",
   "metadata": {},
   "outputs": [
    {
     "name": "stderr",
     "output_type": "stream",
     "text": [
      "INFO:root:Generated queries: ['1. What are some recommended datasets for studying the tuning properties of glial cells?', '2. Can you suggest any datasets that are suitable for investigating the tuning properties of glial cells?', '3. Are there any specific datasets available that would be helpful in studying the tuning properties of glial cells?']\n"
     ]
    },
    {
     "data": {
      "text/plain": [
       "['1. What are some recommended datasets for studying the tuning properties of glial cells?',\n",
       " '2. Can you suggest any datasets that are suitable for investigating the tuning properties of glial cells?',\n",
       " '3. Are there any specific datasets available that would be helpful in studying the tuning properties of glial cells?']"
      ]
     },
     "execution_count": 7,
     "metadata": {},
     "output_type": "execute_result"
    }
   ],
   "source": [
    "user_input = \"I am interested in the tuning properties of glial cells. Are there any good dandisets for studying that?\"\n",
    "retriever_from_llm.generate_queries(user_input)"
   ]
  },
  {
   "cell_type": "code",
   "execution_count": 8,
   "id": "f358c21e-2179-4a65-b78a-e5c240faa82d",
   "metadata": {},
   "outputs": [
    {
     "name": "stderr",
     "output_type": "stream",
     "text": [
      "INFO:root:Generated queries: ['1. What are some recommended datasets for studying the tuning properties of glial cells?', '2. Can you suggest any datasets that are suitable for investigating the tuning properties of glial cells?', '3. Are there any specific datasets available that would be helpful in studying the tuning properties of glial cells?']\n",
      "INFO:httpx:HTTP Request: POST http://localhost:6333/collections/dandi_collection/points/search \"HTTP/1.1 200 OK\"\n",
      "INFO:httpx:HTTP Request: POST http://localhost:6333/collections/dandi_collection/points/search \"HTTP/1.1 200 OK\"\n",
      "INFO:httpx:HTTP Request: POST http://localhost:6333/collections/dandi_collection/points/search \"HTTP/1.1 200 OK\"\n"
     ]
    },
    {
     "data": {
      "text/plain": [
       "[Document(page_content='description: Whole-cell Patch-seq recordings from neurons of the mouse visual cortex from the Allen Institute for Brain Science, released in June 2020. The majority of cells in this dataset are GABAergic interneurons, but there are also a small number of glutamatergic neurons from layer 2/3 of the mouse visual cortex.', metadata={}),\n",
       " Document(page_content='description: Extracellular recordings from rabbit visual cortex neurons. Orientation testing with drifting grating stimuli. Hippocampal EEG for the state scoring procedure. ', metadata={}),\n",
       " Document(page_content='description: This dataset includes the electrophysiological (dorsal CA1 tetrodes) and behavioral (port triggers, reward delivery, and position tracking) data from Gillespie et al, Neuron 2021: \"Hippocampal replay reflects specific past experiences rather than a plan for subsequent choice\". For more information about this data, please contact Anna Gillespie or Loren Frank. ', metadata={}),\n",
       " Document(page_content='description: We used Patch-seq to combine patch-clamp recording, biocytin staining, and single-cell RNA sequencing of over 1300 neurons in adult mouse motor cortex, providing a comprehensive morpho-electric annotation of almost all transcriptomically defined neural cell types. Contained in this dandiset are the intracellular electrophysiological recordings. See Dandiset #35 for an additional dataset, recorded under the physiological temperature. ', metadata={}),\n",
       " Document(page_content='description: Data from \"Physiological Properties and Behavioral Correlates of Hippocampal Granule Cells and Mossy Cells\" Senzai, Buzsaki, Neuron 2017. Electrophysiology recordings of hippocampus during theta maze exploration.', metadata={}),\n",
       " Document(page_content='description:  We used Patch-seq to combine patch-clamp recording, biocytin staining, and single-cell RNA sequencing of over 1300 neurons in adult mouse motor cortex, providing a comprehensive morpho-electric annotation of almost all transcriptomically defined neural cell types. This dataset contains rectangular stimulation of cells under temperature-controlled conditions (34 ℃). See Dandiset #8 for the main dataset, recorded under the room temperature.', metadata={})]"
      ]
     },
     "execution_count": 8,
     "metadata": {},
     "output_type": "execute_result"
    }
   ],
   "source": [
    "unique_docs = retriever_from_llm.get_relevant_documents(question=user_input)\n",
    "unique_docs"
   ]
  },
  {
   "cell_type": "code",
   "execution_count": null,
   "id": "66e7703c-f672-44e5-8783-b06d372b5f9a",
   "metadata": {},
   "outputs": [],
   "source": []
  }
 ],
 "metadata": {
  "kernelspec": {
   "display_name": "env_gpt",
   "language": "python",
   "name": "env_gpt"
  },
  "language_info": {
   "codemirror_mode": {
    "name": "ipython",
    "version": 3
   },
   "file_extension": ".py",
   "mimetype": "text/x-python",
   "name": "python",
   "nbconvert_exporter": "python",
   "pygments_lexer": "ipython3",
   "version": "3.11.2"
  }
 },
 "nbformat": 4,
 "nbformat_minor": 5
}
