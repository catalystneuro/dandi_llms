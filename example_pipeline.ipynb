{
 "cells": [
  {
   "cell_type": "code",
   "execution_count": 1,
   "id": "89b0562e-8261-43aa-9cee-10bbc1c8b01a",
   "metadata": {
    "tags": []
   },
   "outputs": [],
   "source": [
    "%load_ext autoreload\n",
    "%autoreload 2"
   ]
  },
  {
   "cell_type": "markdown",
   "id": "0f770e71-5f6c-43d2-9c4d-4ab796c3c232",
   "metadata": {},
   "source": [
    "# Plan of action\n",
    "\n",
    "### Collect metadata from dandisets. For each set:\n",
    "- get name, description, \n",
    "- get assets summary: approaches, measurement techniques, variables measured\n",
    "- for species, we can get accurate info from NCBITaxon, if it's included\n",
    "- (?) get related resources: scrape title/summary from articles\n",
    "\n",
    "### Vector embeddings\n",
    "- Use OpenAI ada-002 to vectorize each information piece\n",
    "- Store the vectors in Qdrant, have the original dandiset id as object metadata for each vector\n",
    "- (?) any useful extra info we could include on object metadata, for later filtered searches?\n",
    "\n",
    "### Process user questions\n",
    "- User queries can come in the form of questions, e.g.: \"Which datasets can I use to investigate the effects of drug YYYY on cells of type XXXX?\"\n",
    "- We need a prompt that instructs the LLM to extract useful neuroscience research-related keywords from the question, and proceed to use the semantic search engine. We can achieve this using [OpenAI functions](https://openai.com/blog/function-calling-and-other-api-updates)\n",
    "- (simple approach) We return the dandiset IDs present in the top results \n",
    "- (advanced approach) We gather the text content of the collected metadata for the dandisets in the top results and include them in a prompt together with the user's original question and a default instruction such as: \"Given the user question and the listed reference datasets, which datasets could help address the user's question, and why?\""
   ]
  },
  {
   "cell_type": "markdown",
   "id": "30bc8b28-a5a6-4da4-8597-73cc34c5656e",
   "metadata": {
    "tags": []
   },
   "source": [
    "# Collect metadata from dandisets\n",
    "\n",
    "At this step, we collect dandisets metadata and extract relevant text fields to be vectorized later on."
   ]
  },
  {
   "cell_type": "code",
   "execution_count": 2,
   "id": "f568c49f-aee0-4e01-a2cf-3761df040a83",
   "metadata": {
    "tags": []
   },
   "outputs": [],
   "source": [
    "from utils.dandi import get_all_dandisets_metadata, collect_relevant_metadata"
   ]
  },
  {
   "cell_type": "code",
   "execution_count": 3,
   "id": "7260b3d0-15ad-4b90-a228-b4f44113a3eb",
   "metadata": {
    "tags": []
   },
   "outputs": [],
   "source": [
    "# Get all dandisets metadata\n",
    "all_metadata = get_all_dandisets_metadata()"
   ]
  },
  {
   "cell_type": "code",
   "execution_count": 4,
   "id": "87468266-d4cd-493c-acbd-8dce5e406f13",
   "metadata": {
    "tags": []
   },
   "outputs": [],
   "source": [
    "# Extract only relevant text fields from metadata\n",
    "all_metadata_formatted = collect_relevant_metadata(metadata_list=all_metadata)"
   ]
  },
  {
   "cell_type": "code",
   "execution_count": 5,
   "id": "4bc39b32-77da-4db0-899a-2d0e9e0ad6ab",
   "metadata": {
    "tags": []
   },
   "outputs": [
    {
     "data": {
      "text/plain": [
       "{'dandiset_id': 'DANDI:000003/0.210812.1448',\n",
       " 'title': 'title: Physiological Properties and Behavioral Correlates of Hippocampal Granule Cells and Mossy Cells',\n",
       " 'description': 'description: Data from \"Physiological Properties and Behavioral Correlates of Hippocampal Granule Cells and Mossy Cells\" Senzai, Buzsaki, Neuron 2017. Electrophysiology recordings of hippocampus during theta maze exploration.',\n",
       " 'approaches': ['approach: electrophysiological approach',\n",
       "  'approach: behavioral approach'],\n",
       " 'measurement_techniques': ['measurement technique: signal filtering technique',\n",
       "  'measurement technique: fourier analysis technique',\n",
       "  'measurement technique: spike sorting technique',\n",
       "  'measurement technique: behavioral technique',\n",
       "  'measurement technique: multi electrode extracellular electrophysiology recording technique'],\n",
       " 'variables_measured': ['variable measured: DecompositionSeries',\n",
       "  'variable measured: LFP',\n",
       "  'variable measured: Units',\n",
       "  'variable measured: Position',\n",
       "  'variable measured: ElectricalSeries'],\n",
       " 'species': ['species: House mouse']}"
      ]
     },
     "execution_count": 5,
     "metadata": {},
     "output_type": "execute_result"
    }
   ],
   "source": [
    "all_metadata_formatted[0]"
   ]
  },
  {
   "cell_type": "markdown",
   "id": "ac46414b-9e5d-4396-b339-cb14d777aecf",
   "metadata": {},
   "source": [
    "# Vector embeddings\n",
    "\n",
    "At this step, we generate vector embeddings for each property of the formatted metadata from each dandiset. After that, we insert the combination of vectors + payload (metadata information) to Qdrant.\n",
    "To run the cells below, you must have:\n",
    "- `OPENAI_API_KEY` set as environment variable\n",
    "- Qdrant service running [ref](https://qdrant.tech/documentation/quick-start/)"
   ]
  },
  {
   "cell_type": "code",
   "execution_count": 19,
   "id": "bf9c35e2-87cc-42ef-a52f-0f2e7a4c4f00",
   "metadata": {
    "tags": []
   },
   "outputs": [],
   "source": [
    "from utils.openai import get_embeddings\n",
    "from utils.qdrant import create_collection, add_points_to_collection"
   ]
  },
  {
   "cell_type": "code",
   "execution_count": 16,
   "id": "62629b61-de23-45c8-a9cd-c9dc9f90ac54",
   "metadata": {
    "tags": []
   },
   "outputs": [
    {
     "name": "stdout",
     "output_type": "stream",
     "text": [
      "Generating embeddings for dandiset: DANDI:000003/0.210812.1448\n",
      "Generating embeddings for dandiset: DANDI:000004/0.220126.1852\n",
      "Generating embeddings for dandiset: DANDI:000025/draft\n",
      "Generating embeddings for dandiset: DANDI:000010/0.220126.1905\n",
      "Generating embeddings for dandiset: DANDI:000007/0.220126.1903\n",
      "Generating embeddings for dandiset: DANDI:000016/draft\n",
      "Generating embeddings for dandiset: DANDI:000009/0.220126.1903\n",
      "Generating embeddings for dandiset: DANDI:000005/0.220126.1853\n",
      "Generating embeddings for dandiset: DANDI:000017/draft\n",
      "Generating embeddings for dandiset: DANDI:000020/0.210913.1639\n",
      "113\n"
     ]
    }
   ],
   "source": [
    "# Generate vector embeddings all items in formatted metadata list\n",
    "emb = get_embeddings(\n",
    "    metadata_list=all_metadata_formatted,\n",
    "    max_num_sets=10\n",
    ")\n",
    "print(len(emb))"
   ]
  },
  {
   "cell_type": "code",
   "execution_count": 20,
   "id": "5274cd41-837b-4588-aae4-73f50c50b6bb",
   "metadata": {
    "tags": []
   },
   "outputs": [],
   "source": [
    "# Create collection\n",
    "create_collection(collection_name=\"dandi_collection\")"
   ]
  },
  {
   "cell_type": "code",
   "execution_count": 21,
   "id": "addc1463-fb5c-4008-be35-a15b83e178ce",
   "metadata": {
    "tags": []
   },
   "outputs": [],
   "source": [
    "# Populate collection with points\n",
    "add_points_to_collection(embeddings_objects=emb)"
   ]
  },
  {
   "cell_type": "markdown",
   "id": "f9021e66-2792-4741-82a5-11396221a51b",
   "metadata": {
    "tags": []
   },
   "source": [
    "# Process user questions\n",
    "\n",
    "At this step, we handle users input, with the goal of finding the most relevant dandisets for their questions. We start by extracting relevant keywords from their questions, then perform a semantic similarity search against our vector database."
   ]
  },
  {
   "cell_type": "code",
   "execution_count": 79,
   "id": "2998d2da-9276-492e-8cc2-704a851017ab",
   "metadata": {},
   "outputs": [],
   "source": [
    "from utils.openai import keywords_extraction, prepare_keywords_for_semantic_search, add_ordered_similarity_results_to_prompt, get_llm_chat_answer\n",
    "from utils.qdrant import query_all_keywords"
   ]
  },
  {
   "cell_type": "code",
   "execution_count": 32,
   "id": "5f114939-04fe-4d97-b7f5-b78e918176c9",
   "metadata": {},
   "outputs": [
    {
     "data": {
      "text/plain": [
       "[{'species': 'monkeys',\n",
       "  'approaches': 'electrophysiology recordings',\n",
       "  'measurement_techniques': 'spike sorting',\n",
       "  'variables_measured': 'activity of cerebellar Purkinje cells',\n",
       "  'anatomy': 'cerebellar Purkinje cells',\n",
       "  'disease': '',\n",
       "  'cell_types': '',\n",
       "  'drugs': 'caffeine'},\n",
       " {'species': 'mice',\n",
       "  'approaches': 'electrophysiology recordings',\n",
       "  'measurement_techniques': 'spike sorting',\n",
       "  'variables_measured': '',\n",
       "  'anatomy': '',\n",
       "  'disease': '',\n",
       "  'cell_types': 'neurons',\n",
       "  'drugs': ''}]"
      ]
     },
     "execution_count": 32,
     "metadata": {},
     "output_type": "execute_result"
    }
   ],
   "source": [
    "# Extract keywords from user input\n",
    "user_question = \"\"\"I want to investigate the effects of caffeine on the activity of cerebellar Purkinje cells in monkeys. \n",
    "I'm interested in any type of electrophysiology recordings.\n",
    "I also want spike sorting from neurons in mice.\"\"\"\n",
    "\n",
    "keywords = keywords_extraction(user_question=user_question)\n",
    "keywords"
   ]
  },
  {
   "cell_type": "code",
   "execution_count": 36,
   "id": "03596dc9-b859-4cbf-a9cd-c68ab78892df",
   "metadata": {},
   "outputs": [
    {
     "data": {
      "text/plain": [
       "['drugs caffeine',\n",
       " 'variables_measured activity of cerebellar purkinje cells',\n",
       " 'species monkeys',\n",
       " 'species mice',\n",
       " 'anatomy cerebellar purkinje cells',\n",
       " 'measurement_techniques spike sorting',\n",
       " 'approaches electrophysiology recordings',\n",
       " 'cell_types neurons']"
      ]
     },
     "execution_count": 36,
     "metadata": {},
     "output_type": "execute_result"
    }
   ],
   "source": [
    "# Join the results in a list of strings, before semantic search\n",
    "keywords_2 = prepare_keywords_for_semantic_search(keywords)\n",
    "keywords_2"
   ]
  },
  {
   "cell_type": "code",
   "execution_count": 77,
   "id": "cfba5ff7-f792-4f3a-8eed-7b4129ebc301",
   "metadata": {},
   "outputs": [
    {
     "data": {
      "text/plain": [
       "[('DANDI:000003/0.210812.1448', 11.780093099999998),\n",
       " ('DANDI:000005/0.220126.1853', 10.00378832),\n",
       " ('DANDI:000009/0.220126.1903', 8.42570872),\n",
       " ('DANDI:000017/draft', 7.604895280000001),\n",
       " ('DANDI:000010/0.220126.1905', 7.550612050000001),\n",
       " ('DANDI:000020/0.210913.1639', 6.56471599),\n",
       " ('DANDI:000004/0.220126.1852', 5.90100909),\n",
       " ('DANDI:000007/0.220126.1903', 5.18161296),\n",
       " ('DANDI:000025/draft', 3.3110855900000002),\n",
       " ('DANDI:000016/draft', 0.7949213)]"
      ]
     },
     "execution_count": 77,
     "metadata": {},
     "output_type": "execute_result"
    }
   ],
   "source": [
    "# Query similar entries for each keyword, accumulate the scores for repeated results\n",
    "ordered_similarity_results = query_all_keywords(keywords_2)\n",
    "ordered_similarity_results"
   ]
  },
  {
   "cell_type": "code",
   "execution_count": 93,
   "id": "f41eef63-b8b2-42b8-96b2-15a2d288da4f",
   "metadata": {
    "collapsed": true,
    "jupyter": {
     "outputs_hidden": true
    },
    "tags": []
   },
   "outputs": [
    {
     "name": "stdout",
     "output_type": "stream",
     "text": [
      "Given the user input and the list of most relevant dandisets, propose which dandisets the user might be interested in using.\n",
      "Explain your decision based on the infromation of the relvant dandisets.\n",
      "Take also into consideration the relevance score, higher number are likely to be more relevant.\n",
      "Structure your answer as one suggestion per paragraph.\n",
      "Suggest only the dandisets which you consider most relevant. There can be multiple relevant dandisets.\n",
      "Start your answers always with: \"The most relevant dandisets for your question are\" \n",
      "Unless you consider there are no relevant dandisets, in which case only reply: \"There are no relevant dandisets for your question\"\n",
      "---\n",
      "User input: I want to investigate the effects of caffeine on the activity of cerebellar Purkinje cells in monkeys. \n",
      "I'm interested in any type of electrophysiology recordings.\n",
      "I also want spike sorting from neurons in mice.\n",
      "---\n",
      "Most relevant dandisets:\n",
      "\n",
      "DANDISET:000003/draft\n",
      "title: Physiological Properties and Behavioral Correlates of Hippocampal Granule Cells and Mossy Cells\n",
      "description: Data from \"Physiological Properties and Behavioral Correlates of Hippocampal Granule Cells and Mossy Cells\" Senzai, Buzsaki, Neuron 2017. Electrophysiology recordings of hippocampus during theta maze exploration.\n",
      "approach: electrophysiological approach, approach: behavioral approach\n",
      "measurement technique: signal filtering technique, measurement technique: fourier analysis technique, measurement technique: spike sorting technique, measurement technique: behavioral technique, measurement technique: multi electrode extracellular electrophysiology recording technique\n",
      "variable measured: DecompositionSeries, variable measured: LFP, variable measured: Units, variable measured: Position, variable measured: ElectricalSeries\n",
      "species: House mouse\n",
      "relevance score: 11.780093099999998\n",
      "\n",
      "DANDISET:000005/draft\n",
      "title: Electrophysiology data from thalamic and cortical neurons during somatosensation\n",
      "description: intracellular and extracellular electrophysiology recordings performed on mouse barrel cortex and ventral posterolateral nucleus (vpm) in whisker-based object locating task.\n",
      "approach: electrophysiological approach, approach: optogenetic approach\n",
      "measurement technique: current clamp technique, measurement technique: surgical technique, measurement technique: spike sorting technique\n",
      "variable measured: CurrentClampStimulusSeries, variable measured: CurrentClampSeries, variable measured: OptogeneticSeries, variable measured: ElectrodeGroup, variable measured: Units\n",
      "species: House mouse\n",
      "relevance score: 10.00378832\n",
      "\n",
      "DANDISET:000009/draft\n",
      "title: Maintenance of persistent activity in a frontal thalamocortical loop\n",
      "description: We recorded spikes from the ALM and thalamus during tactile discrimination  with a delayed directional response. Here we show that, similar to ALM  neurons, thalamic neurons exhibited selective persistent delay activity  that predicted movement direction. Unilateral photoinhibition of delay  activity in the ALM or thalamus produced contralesional neglect.  Photoinhibition of the thalamus caused a short-latency and near-complete  collapse of ALM activity. Similarly, photoinhibition of the ALM diminished  thalamic activity. Our results show that the thalamus is a circuit hub in  motor preparation and suggest that persistent activity requires reciprocal  excitation across multiple brain areas.\n",
      "approach: electrophysiological approach, approach: behavioral approach, approach: optogenetic approach\n",
      "measurement technique: surgical technique, measurement technique: spike sorting technique, measurement technique: current clamp technique, measurement technique: behavioral technique, measurement technique: analytical technique\n",
      "variable measured: Units, variable measured: ElectrodeGroup, variable measured: ProcessingModule, variable measured: BehavioralTimeSeries, variable measured: CurrentClampStimulusSeries, variable measured: OptogeneticSeries\n",
      "species: House mouse\n",
      "relevance score: 8.42570872\n",
      "\n",
      "DANDISET:000017/draft\n",
      "title: Distributed coding of choice, action and engagement across the mouse brain\n",
      "description: Data from \"Distributed coding of choice, action and engagement across the mouse brain\" Steinmetz et. al Nature 2019\n",
      "approach: electrophysiological approach, approach: behavioral approach\n",
      "measurement technique: analytical technique, measurement technique: spike sorting technique, measurement technique: behavioral technique, measurement technique: surgical technique\n",
      "variable measured: ProcessingModule, variable measured: PupilTracking, variable measured: BehavioralEpochs, variable measured: Units, variable measured: BehavioralEvents, variable measured: BehavioralTimeSeries, variable measured: ElectrodeGroup\n",
      "species: House mouse\n",
      "relevance score: 7.604895280000001\n",
      "\n",
      "DANDISET:000010/draft\n",
      "title: A motor cortex circuit for motor planning and movement\n",
      "description: Data from \"A motor cortex circuit for motor planning and movement\" Li et al. Nature 2015\n",
      "approach: electrophysiological approach, approach: behavioral approach, approach: microscopy approach; cell population imaging\n",
      "measurement technique: surgical technique, measurement technique: behavioral technique, measurement technique: spike sorting technique\n",
      "variable measured: BehavioralTimeSeries, variable measured: Units, variable measured: ElectrodeGroup, variable measured: BehavioralEvents, variable measured: PlaneSegmentation\n",
      "species: House mouse\n",
      "relevance score: 7.550612050000001\n",
      "\n",
      "DANDISET:000020/draft\n",
      "title: Patch-seq recordings from mouse visual cortex\n",
      "description: Whole-cell Patch-seq recordings from neurons of the mouse visual cortex from the Allen Institute for Brain Science, released in June 2020. The majority of cells in this dataset are GABAergic interneurons, but there are also a small number of glutamatergic neurons from layer 2/3 of the mouse visual cortex.\n",
      "\n",
      "measurement technique: analytical technique\n",
      "variable measured: ProcessingModule\n",
      "species: House mouse\n",
      "relevance score: 6.56471599\n",
      "\n",
      "DANDISET:000004/draft\n",
      "title: A NWB-based dataset and processing pipeline of human single-neuron activity during a declarative memory task\n",
      "description: A challenge for data sharing in systems neuroscience is the multitude of different data formats used. Neurodata Without Borders: Neurophysiology 2.0 (NWB:N) has emerged as a standardized data format for the storage of cellular-level data together with meta-data, stimulus information, and behavior. A key next step to facilitate NWB:N adoption is to provide easy to use processing pipelines to import/export data from/to NWB:N. Here, we present a NWB-formatted dataset of 1863 single neurons recorded from the medial temporal lobes of 59 human subjects undergoing intracranial monitoring while they performed a recognition memory task. We provide code to analyze and export/import stimuli, behavior, and electrophysiological recordings to/from NWB in both MATLAB and Python. The data files are NWB:N compliant, which affords interoperability between programming languages and operating systems. This combined data and code release is a case study for how to utilize NWB:N for human single-neuron recordings and enables easy re-use of this hard-to-obtain data for both teaching and research on the mechanisms of human memory.\n",
      "approach: electrophysiological approach\n",
      "measurement technique: spike sorting technique, measurement technique: surgical technique\n",
      "variable measured: Units, variable measured: ElectrodeGroup\n",
      "species: Human\n",
      "relevance score: 5.90100909\n",
      "\n",
      "DANDISET:000007/draft\n",
      "title: A cortico-cerebellar loop for motor planning\n",
      "description: Extracellular recording in ALM\n",
      "approach: electrophysiological approach\n",
      "measurement technique: surgical technique, measurement technique: spike sorting technique\n",
      "variable measured: Units, variable measured: ElectrodeGroup\n",
      "species: House mouse\n",
      "relevance score: 5.18161296\n",
      "\n",
      "DANDISET:000025/draft\n",
      "title: Example intracellular ephys data from LNMC & BBP\n",
      "description: This is a single session showing example intracellular electrophysiology data collected at the Laboratory of Neural Microcircuitry, EPFL. This session holds a variety of different stimulation patterns. \n",
      "\n",
      "It also serves as an example of the hierarchy of metadata tables (/general/intracellular_ephys/) and groups (/data_organization) storing sweeps of a complex experimental protocol.\n",
      "\n",
      "Load this file in pynwb with load_namespaces = True.\n",
      "\n",
      "approach: electrophysiological approach\n",
      "measurement technique: current clamp technique, measurement technique: voltage clamp technique\n",
      "variable measured: VoltageClampSeries, variable measured: CurrentClampStimulusSeries, variable measured: VoltageClampStimulusSeries, variable measured: CurrentClampSeries\n",
      "species: Rattus norvegicus - Norway rat\n",
      "relevance score: 3.3110855900000002\n",
      "\n",
      "DANDISET:000016/draft\n",
      "title: Excitatory and inhibitory subnetworks are equally selective during decision-making and emerge simultaneously during learning\n",
      "description: This package contains data, in NWB (Neurodata Without Borders) format, from the 4 mice included in \"Najafi, Farzaneh, Gamaleldin F. Elsayed, Robin Cao, Eftychios Pnevmatikakis, Peter E. Latham, John P. Cunningham, and Anne K. Churchland. \"Excitatory and inhibitory subnetworks are equally selective during decision-making and emerge simultaneously during learning.\" Neuron 105, no. 1 (2020): 165-179.” Each NWB file represents the data and metadata associated with one recording session. In each NWB file, the metadata related to the session (mouse name, session date/time, lab/institution name, etc.) can be found under \"general\". Information related to ROI-segmentation such as ROI mask, ROI type (excitatory or inhibitory), poor or good quality, etc. can be found under \"modules/Image-Segmentation/pln-seg\". Trial information (e.g. start, end times, trial types, trial outcomes, etc.) can be found under \"trials\". Recorded trial-segmented neuronal responses aligned to different time event (e.g. stimulus start, animal choice, etc.) can be found under \"modules/ Trial-based-Segmentation\". A jupyter notebook presenting in detail how to work with NWB files is provided at https://github.com/ttngu207/najafi-2018-nwb/blob/master/notebooks/Najafi-2018_example.ipynb.\n",
      "approach: microscopy approach; cell population imaging, approach: behavioral approach\n",
      "measurement technique: behavioral technique\n",
      "variable measured: BehavioralTimeSeries, variable measured: PlaneSegmentation\n",
      "\n",
      "relevance score: 0.7949213\n",
      "\n",
      "---\n",
      "Begin:\n"
     ]
    }
   ],
   "source": [
    "# Prepare a prompt instructing the LLM to suggest the most relevant dandisets based on user's input\n",
    "dandisets_text = add_ordered_similarity_results_to_prompt(similarity_results=ordered_similarity_results)\n",
    "\n",
    "base_prompt = \"\"\"Given the user input and the list of most relevant dandisets, propose which dandisets the user might be interested in using.\n",
    "Explain your decision based on the infromation of the relvant dandisets.\n",
    "Take also into consideration the relevance score, higher number are likely to be more relevant.\n",
    "Structure your answer as one suggestion per paragraph.\n",
    "Suggest only the dandisets which you consider most relevant. There can be multiple relevant dandisets.\n",
    "Start your answers always with: \"The most relevant dandisets for your question are\" \n",
    "Unless you consider there are no relevant dandisets, in which case only reply: \"There are no relevant dandisets for your question\"\n",
    "---\n",
    "User input: {user_input}\n",
    "---\n",
    "{dandisets_text}\n",
    "---\n",
    "Begin:\"\"\"\n",
    "\n",
    "prompt = base_prompt.format(user_input=user_question, dandisets_text=dandisets_text)\n",
    "print(prompt)"
   ]
  },
  {
   "cell_type": "code",
   "execution_count": 94,
   "id": "1112c6fb-7e67-4553-89b8-d28e7ca8e6d3",
   "metadata": {},
   "outputs": [],
   "source": [
    "answer = get_llm_chat_answer(prompt=prompt)"
   ]
  },
  {
   "cell_type": "code",
   "execution_count": 95,
   "id": "9c2716a2-6cb2-47cf-beee-b4c0bef08258",
   "metadata": {},
   "outputs": [
    {
     "name": "stdout",
     "output_type": "stream",
     "text": [
      "The most relevant dandiset for investigating the effects of caffeine on the activity of cerebellar Purkinje cells in monkeys, particularly using electrophysiology recordings, is DANDISET:000003/draft. This dataset contains electrophysiology recordings of the hippocampus during theta maze exploration in house mice. It includes measurements such as DecompositionSeries, LFP, Units, Position, and ElectricalSeries, which are relevant for studying neuronal activity. The approach used in this dataset includes electrophysiological and behavioral approaches, making it suitable for investigating the effects of caffeine on cerebellar Purkinje cell activity.\n",
      "\n",
      "Another relevant dandiset for spike sorting from neurons in mice, and potentially for investigating the effects of caffeine, is DANDISET:000005/draft. This dataset consists of intracellular and extracellular electrophysiology recordings performed on the mouse barrel cortex and ventral posterolateral nucleus (vpm) during a whisker-based object locating task. The measurement techniques used in this dataset include spike sorting technique and current clamp technique, which are appropriate for studying neuronal activity and identifying individual neuron spikes.\n",
      "\n",
      "Unfortunately, there are no additional relevant dandisets specifically focused on electrophysiology recordings and spike sorting from neurons in mice for investigating the effects of caffeine.\n"
     ]
    }
   ],
   "source": [
    "print(answer)"
   ]
  },
  {
   "cell_type": "code",
   "execution_count": null,
   "id": "4cdeaeef-0f32-4959-a4f5-c8b1dd78cc60",
   "metadata": {},
   "outputs": [],
   "source": []
  }
 ],
 "metadata": {
  "kernelspec": {
   "display_name": "env_gpt",
   "language": "python",
   "name": "env_gpt"
  },
  "language_info": {
   "codemirror_mode": {
    "name": "ipython",
    "version": 3
   },
   "file_extension": ".py",
   "mimetype": "text/x-python",
   "name": "python",
   "nbconvert_exporter": "python",
   "pygments_lexer": "ipython3",
   "version": "3.11.2"
  }
 },
 "nbformat": 4,
 "nbformat_minor": 5
}
