{
 "cells": [
  {
   "cell_type": "code",
   "execution_count": 1,
   "id": "89b0562e-8261-43aa-9cee-10bbc1c8b01a",
   "metadata": {
    "tags": []
   },
   "outputs": [],
   "source": [
    "%load_ext autoreload\n",
    "%autoreload 2"
   ]
  },
  {
   "cell_type": "markdown",
   "id": "0f770e71-5f6c-43d2-9c4d-4ab796c3c232",
   "metadata": {},
   "source": [
    "# Motivation\n",
    "\n",
    "We want to provide a system that, based on the user's questions, suggests dandisets that could be of relevance.\n",
    "\n",
    "# Plan of action\n",
    "\n",
    "### Collect metadata from dandisets. For each set:\n",
    "- get name, description, \n",
    "- get assets summary: approaches, measurement techniques, variables measured\n",
    "- for species, we can get accurate info from NCBITaxon, if it's included\n",
    "- (?) get related resources: scrape title/summary from articles\n",
    "\n",
    "### Vector embeddings\n",
    "- Use OpenAI ada-002 to vectorize each information piece\n",
    "- Store the vectors in Qdrant, have the original dandiset id as object metadata for each vector\n",
    "- (?) any useful extra info we could include on object metadata, for later filtered searches?\n",
    "\n",
    "### Process user questions\n",
    "- User queries can come in the form of questions, e.g.: \"Which datasets can I use to investigate the effects of drug YYYY on cells of type XXXX?\"\n",
    "- We need a prompt that instructs the LLM to extract useful neuroscience research-related keywords from the question, and proceed to use the semantic search engine. We can achieve this using [OpenAI functions](https://openai.com/blog/function-calling-and-other-api-updates)\n",
    "- (simple approach) We return the dandiset IDs present in the top results \n",
    "- (advanced approach) We gather the text content of the collected metadata for the dandisets in the top results and include them in a prompt together with the user's original question and a default instruction such as: \"Given the user question and the listed reference datasets, which datasets could help address the user's question, and why?\"\n",
    "\n",
    "# Requirements\n",
    "- `pip install -r requirements.txt`\n",
    "- `export OPENAI_API_KEY=<your-openai-api-key>`\n",
    "- `docker run -p 6333:6333 -v $(pwd)/qdrant_storage:/qdrant/storage qdrant/qdrant:latest`"
   ]
  },
  {
   "cell_type": "code",
   "execution_count": 2,
   "id": "f568c49f-aee0-4e01-a2cf-3761df040a83",
   "metadata": {
    "tags": []
   },
   "outputs": [],
   "source": [
    "from utils.dandi import get_all_dandisets_metadata, collect_relevant_metadata"
   ]
  },
  {
   "cell_type": "code",
   "execution_count": 3,
   "id": "7260b3d0-15ad-4b90-a228-b4f44113a3eb",
   "metadata": {
    "tags": []
   },
   "outputs": [],
   "source": [
    "# Get all dandisets metadata\n",
    "all_metadata = get_all_dandisets_metadata()"
   ]
  },
  {
   "cell_type": "code",
   "execution_count": 4,
   "id": "87468266-d4cd-493c-acbd-8dce5e406f13",
   "metadata": {
    "tags": []
   },
   "outputs": [],
   "source": [
    "# Extract only relevant text fields from metadata\n",
    "all_metadata_formatted = collect_relevant_metadata(metadata_list=all_metadata)"
   ]
  },
  {
   "cell_type": "code",
   "execution_count": 5,
   "id": "4bc39b32-77da-4db0-899a-2d0e9e0ad6ab",
   "metadata": {
    "tags": []
   },
   "outputs": [
    {
     "data": {
      "text/plain": [
       "{'dandiset_id': 'DANDI:000005/0.220126.1853',\n",
       " 'title': 'title: Electrophysiology data from thalamic and cortical neurons during somatosensation',\n",
       " 'description': 'description: intracellular and extracellular electrophysiology recordings performed on mouse barrel cortex and ventral posterolateral nucleus (vpm) in whisker-based object locating task.',\n",
       " 'approaches': ['approach: electrophysiological approach',\n",
       "  'approach: optogenetic approach'],\n",
       " 'measurement_techniques': ['measurement technique: current clamp technique',\n",
       "  'measurement technique: surgical technique',\n",
       "  'measurement technique: spike sorting technique'],\n",
       " 'variables_measured': ['variable measured: CurrentClampStimulusSeries',\n",
       "  'variable measured: CurrentClampSeries',\n",
       "  'variable measured: OptogeneticSeries',\n",
       "  'variable measured: ElectrodeGroup',\n",
       "  'variable measured: Units'],\n",
       " 'species': ['species: House mouse']}"
      ]
     },
     "execution_count": 5,
     "metadata": {},
     "output_type": "execute_result"
    }
   ],
   "source": [
    "all_metadata_formatted[0]"
   ]
  },
  {
   "cell_type": "markdown",
   "id": "ac46414b-9e5d-4396-b339-cb14d777aecf",
   "metadata": {},
   "source": [
    "# Vector embeddings\n",
    "\n",
    "At this step, we generate vector embeddings for each property of the formatted metadata from each dandiset. After that, we insert the combination of vectors + payload (metadata information) to Qdrant.\n",
    "To run the cells below, you must have:\n",
    "- `OPENAI_API_KEY` set as environment variable\n",
    "- Qdrant service running [ref](https://qdrant.tech/documentation/quick-start/)"
   ]
  },
  {
   "cell_type": "code",
   "execution_count": 25,
   "id": "bf9c35e2-87cc-42ef-a52f-0f2e7a4c4f00",
   "metadata": {
    "tags": []
   },
   "outputs": [],
   "source": [
    "from utils.openai import get_embeddings\n",
    "from utils.qdrant import create_collection, add_points_to_collection, get_collection_info\n",
    "import json"
   ]
  },
  {
   "cell_type": "code",
   "execution_count": 15,
   "id": "62629b61-de23-45c8-a9cd-c9dc9f90ac54",
   "metadata": {
    "tags": []
   },
   "outputs": [
    {
     "name": "stderr",
     "output_type": "stream",
     "text": [
      "Processing item DANDI:000363/0.230613.1608:  70%|████████████████████████████████████████████████████████▎                        | 105/151 [04:34<02:55,  3.81s/it]Retrying langchain.embeddings.openai.embed_with_retry.<locals>._embed_with_retry in 4.0 seconds as it raised APIError: The server had an error while processing your request. Sorry about that! You can retry your request, or contact us through our help center at help.openai.com if the error persists. (Please include the request ID 22f58235a3c8819f0f40e8b2b07fced0 in your message.) {\n",
      "  \"error\": {\n",
      "    \"message\": \"The server had an error while processing your request. Sorry about that! You can retry your request, or contact us through our help center at help.openai.com if the error persists. (Please include the request ID 22f58235a3c8819f0f40e8b2b07fced0 in your message.)\",\n",
      "    \"type\": \"server_error\",\n",
      "    \"param\": null,\n",
      "    \"code\": null\n",
      "  }\n",
      "}\n",
      " 500 {'error': {'message': 'The server had an error while processing your request. Sorry about that! You can retry your request, or contact us through our help center at help.openai.com if the error persists. (Please include the request ID 22f58235a3c8819f0f40e8b2b07fced0 in your message.)', 'type': 'server_error', 'param': None, 'code': None}} {'Date': 'Thu, 29 Jun 2023 09:07:52 GMT', 'Content-Type': 'application/json', 'Content-Length': '366', 'Connection': 'keep-alive', 'access-control-allow-origin': '*', 'openai-organization': 'tauffer-consulting', 'openai-processing-ms': '30025', 'openai-version': '2020-10-01', 'strict-transport-security': 'max-age=15724800; includeSubDomains', 'x-ratelimit-limit-requests': '3000', 'x-ratelimit-limit-tokens': '1000000', 'x-ratelimit-remaining-requests': '2999', 'x-ratelimit-remaining-tokens': '999847', 'x-ratelimit-reset-requests': '20ms', 'x-ratelimit-reset-tokens': '9ms', 'x-request-id': '22f58235a3c8819f0f40e8b2b07fced0', 'CF-Cache-Status': 'DYNAMIC', 'Server': 'cloudflare', 'CF-RAY': '7ded04d30a442d8d-ARN', 'alt-svc': 'h3=\":443\"; ma=86400'}.\n",
      "Processing item DANDI:000545/draft: 100%|█████████████████████████████████████████████████████████████████████████████████████████| 151/151 [08:20<00:00,  3.32s/it]\n"
     ]
    }
   ],
   "source": [
    "# Generate vector embeddings all items in formatted metadata list\n",
    "# This can be slow and costs a few cents per run, so it's recommended to save results to disk and load it later on\n",
    "emb = get_embeddings(\n",
    "    metadata_list=all_metadata_formatted,\n",
    "    # max_num_sets=10,\n",
    "    save_to_file=True\n",
    ")"
   ]
  },
  {
   "cell_type": "code",
   "execution_count": null,
   "id": "83a3f295-f5ab-457d-94bb-1d58bb8850dc",
   "metadata": {},
   "outputs": [],
   "source": [
    "# Or load them from a file, if already previously produced\n",
    "with open(\"qdrant_points.json\", \"r\") as file:\n",
    "    emb = json.load(file)"
   ]
  },
  {
   "cell_type": "code",
   "execution_count": 17,
   "id": "8b839cda-0890-470b-b531-c7209740e388",
   "metadata": {},
   "outputs": [
    {
     "name": "stdout",
     "output_type": "stream",
     "text": [
      "Produced 1527 embedding points for 151 dandisets\n"
     ]
    }
   ],
   "source": [
    "print(f\"Produced {len(emb)} embedding points for {len(all_metadata_formatted)} dandisets\")"
   ]
  },
  {
   "cell_type": "code",
   "execution_count": 18,
   "id": "5274cd41-837b-4588-aae4-73f50c50b6bb",
   "metadata": {
    "tags": []
   },
   "outputs": [],
   "source": [
    "# Create Qdrant collection\n",
    "create_collection(collection_name=\"dandi_collection\")"
   ]
  },
  {
   "cell_type": "code",
   "execution_count": 20,
   "id": "addc1463-fb5c-4008-be35-a15b83e178ce",
   "metadata": {
    "tags": []
   },
   "outputs": [
    {
     "name": "stdout",
     "output_type": "stream",
     "text": [
      "All points added to collection dandi_collection\n"
     ]
    }
   ],
   "source": [
    "# Populate collection with points\n",
    "add_points_to_collection(embeddings_objects=emb)"
   ]
  },
  {
   "cell_type": "code",
   "execution_count": 28,
   "id": "26f08d74-218c-4a9c-ac82-e96612386d68",
   "metadata": {},
   "outputs": [
    {
     "name": "stdout",
     "output_type": "stream",
     "text": [
      "Inserted 1527 points to Qdrant collection\n"
     ]
    }
   ],
   "source": [
    "info = get_collection_info(\"dandi_collection\")\n",
    "print(f\"Inserted {info['points_count']} points to Qdrant collection\")"
   ]
  },
  {
   "cell_type": "markdown",
   "id": "f9021e66-2792-4741-82a5-11396221a51b",
   "metadata": {
    "tags": []
   },
   "source": [
    "# Vectorize user questions\n",
    "\n",
    "At this step, we handle users input, with the goal of finding the most relevant dandisets for their questions. \n",
    "\n",
    "We test two vectorization options:\n",
    "- vectorize the entire question\n",
    "- extract relevant keywords from user's questions, vectorize these keywords\n",
    "\n",
    "Then perform a similarity search against our vector database, to gather the most semantically similar points to the user's question.\n",
    "\n",
    "Finally, we include the most semantically similar results and the user's input into a prompt which instructs the LLM to further refine the answer to the user."
   ]
  },
  {
   "cell_type": "code",
   "execution_count": 66,
   "id": "2998d2da-9276-492e-8cc2-704a851017ab",
   "metadata": {},
   "outputs": [],
   "source": [
    "from utils.openai import (\n",
    "    keywords_extraction, \n",
    "    prepare_keywords_for_semantic_search, \n",
    "    add_ordered_similarity_results_to_prompt, \n",
    "    get_llm_chat_answer\n",
    ")\n",
    "from utils.qdrant import query_all_keywords, query_from_user_input\n",
    "from utils.pipeline import prepare_prompt"
   ]
  },
  {
   "cell_type": "code",
   "execution_count": 67,
   "id": "5f114939-04fe-4d97-b7f5-b78e918176c9",
   "metadata": {
    "tags": []
   },
   "outputs": [],
   "source": [
    "# Vectorize user's input and query similar Qdrant points\n",
    "user_input = \"I am interested in the tuning properties of glial cells. Are there any good dandisets for studying that?\"\n",
    "\n",
    "ordered_similarity_results = query_from_user_input(text=user_input, top_k=15)"
   ]
  },
  {
   "cell_type": "code",
   "execution_count": 68,
   "id": "7271e3d2-2002-4ea9-aa9e-03ffffcf482f",
   "metadata": {
    "collapsed": true,
    "jupyter": {
     "outputs_hidden": true
    },
    "tags": []
   },
   "outputs": [
    {
     "name": "stdout",
     "output_type": "stream",
     "text": [
      "Given the user input and the list of most reference dandisets, propose which dandisets the user might be interested in using.\n",
      "Explain your decision based on the information of the reference dandisets.\n",
      "Suggest only the dandisets which you consider to be most relevant. There can be multiple relevant dandisets.\n",
      "Structure your answer as a numbered list, with one suggestion per item.\n",
      "Always start your answers always with: \"The most relevant dandisets for your question are:\" \n",
      "Unless you consider there are no relevant dandisets, in which case only reply: \"There are no relevant dandisets for your question\"\n",
      "---\n",
      "User input: I am interested in the tuning properties of glial cells. Are there any good dandisets for studying that?\n",
      "---\n",
      "Reference dandisets:\n",
      "\n",
      "DANDISET:000049/draft\n",
      "title: Allen Institute – TF x SF tuning in mouse visual cortex with calcium imaging\n",
      "description: A two photon calcium imaging dataset from Allen Institute measuring responses to full-field drifting gratings (approx. 120x90 degrees of visual space) moving in 4 different directions, at 5 spatial frequencies (0.02, 0.04, 0.08, 0.16, 0.32 cpd), and 5 temporal frequencies (0.5, 1, 2, 4, 8 Hz). The ratio of TF/SF is speed (deg/sec) and the extent to which visual neurons exhibit speed tuning has been shown to vary across some cortical areas (Andermann et al. 2011).\n",
      "Mouse Cre lines expressing GCaMPf were imaged to record responses of pyramidal neurons across cortical layers (Cux2: layer 2/3; Rorb: layer 4; Rbp4: layer 5; Ntsr1: layer 6) as well as somatostatin inhibitory interneurons (Sst). All Cre lines were imaged in VISp, and some (Cux2 and Sst) were also imaged in VISl, VISal, VISpm, VISam, and VISrl. All experimental sessions took place on the same data collection pipeline as the Allen Brain Observatory (see de Vries, Lecoq, Buice et al. 2020) and have the same visual stimulus monitor calibration and positioning, two photon imaging systems and image processing pipeline, and running wheel to track locomotion. Data are subject to Allen Institute Terms of Use policy, available at: http://www.alleninstitute.org/legal/terms-use/\n",
      "approach: electrophysiological approach, approach: microscopy approach; cell population imaging, approach: behavioral approach\n",
      "measurement technique: spike sorting technique, measurement technique: two-photon microscopy technique, measurement technique: behavioral technique\n",
      "variable measured: TwoPhotonSeries, variable measured: Units, variable measured: PlaneSegmentation, variable measured: BehavioralTimeSeries\n",
      "species: House mouse\n",
      "relevance score: 1.59584826\n",
      "\n",
      "DANDISET:000295/draft\n",
      "title: Electrophysiological properties of adult mouse spinal cord neurons - 22Q2_Ephys_DANDI\n",
      "description: Whole-cell patch clamp recording of specific cell types in the adult mouse spinal cord. Neurons are either input defined, output defined or expressing specific molecular markers.\n",
      "approach: electrophysiological approach\n",
      "measurement technique: current clamp technique\n",
      "variable measured: CurrentClampSeries, variable measured: CurrentClampStimulusSeries\n",
      "species: Mus musculus - House mouse\n",
      "relevance score: 0.81513107\n",
      "\n",
      "DANDISET:000245/draft\n",
      "title: Electrophysiological properties of adult mouse spinal cord neurons - 22Q1_Ephys_DANDI\n",
      "description: Whole-cell patch clamp recording of specific cell types in the adult mouse spinal cord. Neurons are either input defined, output defined or expressing specific molecular markers. \n",
      "approach: electrophysiological approach\n",
      "measurement technique: current clamp technique\n",
      "variable measured: CurrentClampSeries, variable measured: CurrentClampStimulusSeries\n",
      "species: Mus musculus - House mouse\n",
      "relevance score: 0.81505716\n",
      "\n",
      "DANDISET:000008/draft\n",
      "title: Phenotypic variation within and across transcriptomic cell types in mouse motor cortex\n",
      "description: We used Patch-seq to combine patch-clamp recording, biocytin staining, and single-cell RNA sequencing of over 1300 neurons in adult mouse motor cortex, providing a comprehensive morpho-electric annotation of almost all transcriptomically defined neural cell types. Contained in this dandiset are the intracellular electrophysiological recordings. See Dandiset #35 for an additional dataset, recorded under the physiological temperature. \n",
      "approach: electrophysiological approach\n",
      "measurement technique: current clamp technique\n",
      "variable measured: CurrentClampStimulusSeries, variable measured: CurrentClampSeries\n",
      "species: Mus musculus - House mouse\n",
      "relevance score: 0.8146649\n",
      "\n",
      "DANDISET:000481/draft\n",
      "title: State-dependent processing in visual cortex\n",
      "description: Extracellular recordings from rabbit visual cortex neurons. Orientation testing with drifting grating stimuli. Hippocampal EEG for the state scoring procedure. \n",
      "approach: electrophysiological approach\n",
      "measurement technique: signal filtering technique, measurement technique: analytical technique, measurement technique: surgical technique, measurement technique: spike sorting technique, measurement technique: multi electrode extracellular electrophysiology recording technique\n",
      "variable measured: ElectrodeGroup, variable measured: Units, variable measured: ElectricalSeries, variable measured: LFP, variable measured: ProcessingModule\n",
      "species: Oryctolagus cuniculus - Rabbits\n",
      "relevance score: 0.80329585\n",
      "\n",
      "DANDISET:000168/draft\n",
      "title: Simultaneous loose seal cell-attached recordings  and two-photon imaging of GCaMP8 expressing mouse V1 neurons with drifting gratings visual stimuli\n",
      "description: We tested the jGCaMP8 sensors in L2/3 pyramidal neurons of mouse primary visual cortex. We made a craniotomy over V1 and infected neurons with adeno-associated virus (AAV2/1-hSynapsin-1) encoding jGCaMP8 variants (s/m/f), jGCaMP7f, or XCaMP-Gf. 18-80 days after the virus injection, the mouse was anesthetized, and we surgically removed the cranial window and performed durotomy. The craniotomy was filled with 10-15 μL of 1.5% agarose, and a D-shaped coverslip was secured on top to suppress brain motion and leave access to the brain on the lateral side of the craniotomy. Then mice were lightly anesthetized and mounted under a custom two-photon microscope. Full-field, high-contrast drifting gratings were presented in each of eight directions to the contralateral eye. Two-photon imaging (122 Hz) was performed of L2/3 somata and neuropil combined with loose-seal, cell-attached electrophysiological recording of a single neuron in the field of view.\n",
      "approach: microscopy approach; cell population imaging, approach: electrophysiological approach\n",
      "measurement technique: two-photon microscopy technique, measurement technique: current clamp technique, measurement technique: analytical technique, measurement technique: voltage clamp technique\n",
      "variable measured: PlaneSegmentation, variable measured: CurrentClampStimulusSeries, variable measured: CurrentClampSeries, variable measured: TwoPhotonSeries, variable measured: ProcessingModule, variable measured: VoltageClampStimulusSeries, variable measured: VoltageClampSeries\n",
      "species: Mus musculus - House mouse\n",
      "relevance score: 0.8011832\n",
      "\n",
      "DANDISET:000039/draft\n",
      "title: Allen Institute – Contrast tuning in mouse visual cortex with calcium imaging\n",
      "description: A two photon calcium imaging dataset from Allen Institute measuring responses to full-field drifting gratings (approx. 120x90 degrees of visual space) of 8 directions and 6 contrasts (5%, 10%, 20%, 40%, 60%, 80%). Mouse Cre lines expressing GCaMP6f were imaged to record responses of   pyramidal neurons across cortical layers (Cux2: layer 2/3; Rorb: layer 4; Rbp4: layer 5; Ntsr1: layer 6) as well as inhibitory interneurons (Vip and Sst). All experimental sessions took place on the same data collection pipeline as the Allen Brain Observatory (see http://observatory.brain-map.org/visualcoding) and have the same visual stimulus monitor calibration and positioning, two photon imaging systems and image processing pipeline, and running wheel to track locomotion.\n",
      "\n",
      " Data are subject to Allen Institute Terms of Use policy, available at: http://www.alleninstitute.org/legal/terms-use/\n",
      "approach: electrophysiological approach, approach: microscopy approach; cell population imaging, approach: behavioral approach\n",
      "measurement technique: two-photon microscopy technique, measurement technique: spike sorting technique, measurement technique: behavioral technique\n",
      "variable measured: Units, variable measured: PlaneSegmentation, variable measured: TwoPhotonSeries, variable measured: BehavioralTimeSeries\n",
      "species: House mouse\n",
      "relevance score: 0.8008875\n",
      "\n",
      "DANDISET:000165/draft\n",
      "title: Aery Jones et al (2021) Dentate Gyrus and CA3 GABAergic Interneurons Bidirectionally Modulate Signatures of Internal and External Drive to CA1\n",
      "description: The experiment consisted of three cohorts of PVCre, SSTCre, and PVCre/SSTCre mice injected with either AAV5-hSyn-DIO-hM4D(Gi)-mCherry (hM4D) or AAV5-hSyn-DIO-mCherry (empty vector) in DG and CA3, then injected with vehicle or CNO prior to recordings. Recordings from all layers of CA1, CA3, and DG were taken during home cage rest and linear track movement. Data are described in Aery Jones et al, 2021, bioRxiv: \"Dentate Gyrus and CA3 GABAergic Interneurons Bidirectionally Modulate Signatures of Internal and External Drive to CA1\". For more information about this data, please contact Emily Aery Jones, Yadong Huang, or Loren Frank.\n",
      "approach: electrophysiological approach, approach: behavioral approach\n",
      "measurement technique: spike sorting technique, measurement technique: signal filtering technique, measurement technique: behavioral technique, measurement technique: multi electrode extracellular electrophysiology recording technique, measurement technique: surgical technique\n",
      "variable measured: Units, variable measured: Position, variable measured: LFP, variable measured: SpatialSeries, variable measured: ElectricalSeries, variable measured: ElectrodeGroup\n",
      "species: House mouse\n",
      "relevance score: 0.8004515\n",
      "\n",
      "DANDISET:000003/draft\n",
      "title: Physiological Properties and Behavioral Correlates of Hippocampal Granule Cells and Mossy Cells\n",
      "description: Data from \"Physiological Properties and Behavioral Correlates of Hippocampal Granule Cells and Mossy Cells\" Senzai, Buzsaki, Neuron 2017. Electrophysiology recordings of hippocampus during theta maze exploration.\n",
      "approach: electrophysiological approach, approach: behavioral approach\n",
      "measurement technique: signal filtering technique, measurement technique: fourier analysis technique, measurement technique: spike sorting technique, measurement technique: behavioral technique, measurement technique: multi electrode extracellular electrophysiology recording technique\n",
      "variable measured: DecompositionSeries, variable measured: LFP, variable measured: Units, variable measured: Position, variable measured: ElectricalSeries\n",
      "species: House mouse\n",
      "relevance score: 0.79937124\n",
      "\n",
      "DANDISET:000020/draft\n",
      "title: Patch-seq recordings from mouse visual cortex\n",
      "description: Whole-cell Patch-seq recordings from neurons of the mouse visual cortex from the Allen Institute for Brain Science, released in June 2020. The majority of cells in this dataset are GABAergic interneurons, but there are also a small number of glutamatergic neurons from layer 2/3 of the mouse visual cortex.\n",
      "\n",
      "measurement technique: analytical technique\n",
      "variable measured: ProcessingModule\n",
      "species: House mouse\n",
      "relevance score: 0.79859775\n",
      "\n",
      "DANDISET:000115/draft\n",
      "title: Gillespie et al (2021) Hippocampal replay reflects specific past experiences rather than a plan for subsequent choice\n",
      "description: This dataset includes the electrophysiological (dorsal CA1 tetrodes) and behavioral (port triggers, reward delivery, and position tracking) data from Gillespie et al, Neuron 2021: \"Hippocampal replay reflects specific past experiences rather than a plan for subsequent choice\". For more information about this data, please contact Anna Gillespie or Loren Frank. \n",
      "PLEASE NOTE: We have updated the NWB files to correct a bug in the NWB file generation that caused mislabeling of electrodes. This correction does not impact the results of the manuscript in any way. Please use the newer version of the files (3/21/22) rather than the originals! \n",
      "approach: electrophysiological approach, approach: behavioral approach\n",
      "measurement technique: behavioral technique, measurement technique: multi electrode extracellular electrophysiology recording technique, measurement technique: analytical technique\n",
      "variable measured: ElectricalSeries, variable measured: Position, variable measured: SpatialSeries, variable measured: BehavioralEvents, variable measured: ProcessingModule\n",
      "species: Rat; norway rat; rats; brown rat, species: Rattus norvegicus - Norway rat\n",
      "relevance score: 0.7972965\n",
      "\n",
      "DANDISET:000251/draft\n",
      "title: A Unified Framework for Dopamine Signals across Timescales\n",
      "description: This dandiset contains the data associated with \"A Unified Framework for Dopamine Signals across Timescales\" (Kim et al. 2020). It is comprised of fiber photometry data, single-unit recordings, stimulus variables, and behavioral measurements across a wide variety of experimental manipulations. \n",
      "approach: behavioral approach, approach: electrophysiological approach\n",
      "measurement technique: analytical technique, measurement technique: behavioral technique, measurement technique: spike sorting technique\n",
      "variable measured: SpatialSeries, variable measured: ProcessingModule, variable measured: Units\n",
      "species: Mus musculus - House mouse\n",
      "relevance score: 0.7967273\n",
      "\n",
      "DANDISET:000410/draft\n",
      "title: Joshi et al (2023) Dynamic Synchronization between Hippocampal Spatial Representations and the Stepping Rhythm\n",
      "description: This dateset includes electrophysiological data from from dorsal CA1 of rats running on a linear or w-shaped track. Please contact Abhilasha Joshi or Loren Frank for more information about this data. \n",
      "approach: behavioral approach, approach: electrophysiological approach\n",
      "measurement technique: behavioral technique, measurement technique: analytical technique, measurement technique: multi electrode extracellular electrophysiology recording technique\n",
      "variable measured: SpatialSeries, variable measured: ProcessingModule, variable measured: Position, variable measured: BehavioralEvents, variable measured: ElectricalSeries\n",
      "species: Rattus norvegicus - Norway rat\n",
      "relevance score: 0.7959999\n",
      "\n",
      "DANDISET:000292/draft\n",
      "title: UHN whole-cell patch-clamp excitability recordings from mouse cortical neurons\n",
      "description: Whole-cell patch clamp recordings from acute mouse brain slices of layer 5 cortex.\n",
      "approach: electrophysiological approach\n",
      "measurement technique: current clamp technique, measurement technique: voltage clamp technique\n",
      "variable measured: CurrentClampSeries, variable measured: CurrentClampStimulusSeries, variable measured: VoltageClampStimulusSeries\n",
      "species: Mus musculus - House mouse\n",
      "relevance score: 0.7956532\n",
      "\n",
      "---\n",
      "Begin:\n"
     ]
    }
   ],
   "source": [
    "dandisets_text = add_ordered_similarity_results_to_prompt(similarity_results=ordered_similarity_results)\n",
    "prompt = prepare_prompt(user_input=user_input, dandisets_text=dandisets_text, model=\"gpt-3.5-turbo-16k\")\n",
    "print(prompt)"
   ]
  },
  {
   "cell_type": "code",
   "execution_count": 69,
   "id": "04043bb7-f179-4baa-854f-daacd50bc47b",
   "metadata": {},
   "outputs": [
    {
     "name": "stdout",
     "output_type": "stream",
     "text": [
      "The most relevant dandisets for your question are:\n",
      "\n",
      "1. DANDISET:000049/draft - Allen Institute – TF x SF tuning in mouse visual cortex with calcium imaging: This dandiset provides a two-photon calcium imaging dataset that measures the responses of pyramidal neurons and inhibitory interneurons in the mouse visual cortex to drifting gratings. It includes information about spatial and temporal frequencies, which are relevant for studying tuning properties.\n",
      "\n",
      "2. DANDISET:000020/draft - Patch-seq recordings from mouse visual cortex: This dandiset contains whole-cell Patch-seq recordings from neurons in the mouse visual cortex. While it primarily focuses on GABAergic interneurons, it also includes some glutamatergic neurons. The combination of patch-clamp recordings with single-cell RNA sequencing allows for the comprehensive study of morpho-electric properties, which can provide insights into tuning properties.\n",
      "\n",
      "These dandisets provide relevant data on the tuning properties of neurons, specifically in the context of glial cells and visual cortex.\n"
     ]
    }
   ],
   "source": [
    "answer = get_llm_chat_answer(prompt=prompt, model=\"gpt-3.5-turbo-16k\")\n",
    "print(answer)"
   ]
  },
  {
   "cell_type": "code",
   "execution_count": null,
   "id": "7487d5c9-c483-45a2-ae09-bdb7f8f7469b",
   "metadata": {},
   "outputs": [],
   "source": []
  },
  {
   "cell_type": "code",
   "execution_count": 70,
   "id": "03596dc9-b859-4cbf-a9cd-c68ab78892df",
   "metadata": {},
   "outputs": [
    {
     "data": {
      "text/plain": [
       "['glial cells']"
      ]
     },
     "execution_count": 70,
     "metadata": {},
     "output_type": "execute_result"
    }
   ],
   "source": [
    "# A second approach would be to first extract neuroscience-related keywords from user's questions\n",
    "keywords = keywords_extraction(user_input=user_input)\n",
    "\n",
    "# Join the results in a list of strings, before semantic search\n",
    "keywords_2 = prepare_keywords_for_semantic_search(keywords)\n",
    "keywords_2"
   ]
  },
  {
   "cell_type": "code",
   "execution_count": 71,
   "id": "cfba5ff7-f792-4f3a-8eed-7b4129ebc301",
   "metadata": {},
   "outputs": [
    {
     "data": {
      "text/plain": [
       "[('DANDI:000350/0.221219.1506', 1.60849447),\n",
       " ('DANDI:000003/0.210812.1448', 1.6015465400000002),\n",
       " ('DANDI:000168/draft', 1.58228317),\n",
       " ('DANDI:000020/0.210913.1639', 0.8162182),\n",
       " ('DANDI:000245/draft', 0.7953203),\n",
       " ('DANDI:000302/draft', 0.7935248),\n",
       " ('DANDI:000295/draft', 0.78901964),\n",
       " ('DANDI:000165/0.211118.1526', 0.78858215),\n",
       " ('DANDI:000409/draft', 0.7884433),\n",
       " ('DANDI:000292/0.220708.1652', 0.7866779),\n",
       " ('DANDI:000008/0.211014.0809', 0.7866111),\n",
       " ('DANDI:000244/draft', 0.7853387)]"
      ]
     },
     "execution_count": 71,
     "metadata": {},
     "output_type": "execute_result"
    }
   ],
   "source": [
    "# Query similar entries for each keyword, accumulate the scores for repeated results\n",
    "ordered_similarity_results = query_all_keywords(keywords_2, top_k=15)\n",
    "ordered_similarity_results"
   ]
  },
  {
   "cell_type": "code",
   "execution_count": 72,
   "id": "f41eef63-b8b2-42b8-96b2-15a2d288da4f",
   "metadata": {
    "collapsed": true,
    "jupyter": {
     "outputs_hidden": true
    },
    "tags": []
   },
   "outputs": [
    {
     "name": "stdout",
     "output_type": "stream",
     "text": [
      "Given the user input and the list of most reference dandisets, propose which dandisets the user might be interested in using.\n",
      "Explain your decision based on the information of the reference dandisets.\n",
      "Suggest only the dandisets which you consider to be most relevant. There can be multiple relevant dandisets.\n",
      "Structure your answer as a numbered list, with one suggestion per item.\n",
      "Always start your answers always with: \"The most relevant dandisets for your question are:\" \n",
      "Unless you consider there are no relevant dandisets, in which case only reply: \"There are no relevant dandisets for your question\"\n",
      "---\n",
      "User input: I am interested in the tuning properties of glial cells. Are there any good dandisets for studying that?\n",
      "---\n",
      "Reference dandisets:\n",
      "\n",
      "DANDISET:000350/draft\n",
      "title: Glia Accumulate Evidence that Actions Are Futile and Suppress Unsuccessful Behavior\n",
      "description: When a behavior repeatedly fails to achieve its goal, animals often give up and become passive, which can be strategic for preserving energy or regrouping between attempts. It is unknown how the brain identifies behavioral failures and mediates this behavioral-state switch. In larval zebrafish swimming in virtual reality, visual feedback can be withheld so that swim attempts fail to trigger expected visual flow. After tens of seconds of such motor futility, animals became passive for similar durations. Whole-brain calcium imaging revealed noradrenergic neurons that responded specifically to failed swim attempts and radial astrocytes whose calcium levels accumulated with increasing numbers of failed attempts. Using cell ablation and optogenetic or chemogenetic activation, we found that noradrenergic neurons progressively activated brainstem radial astrocytes, which then suppressed swimming. Thus, radial astrocytes perform a computation critical for behavior: they accumulate evidence that current actions are ineffective and consequently drive changes in behavioral states.\n",
      "approach: microscopy approach; cell population imaging\n",
      "measurement technique: surgical technique, measurement technique: two-photon microscopy technique, measurement technique: analytical technique\n",
      "variable measured: TwoPhotonSeries, variable measured: OpticalChannel, variable measured: ProcessingModule, variable measured: ImagingPlane, variable measured: PlaneSegmentation\n",
      "species: Danio rerio - Zebra fish\n",
      "relevance score: 1.60849447\n",
      "\n",
      "DANDISET:000003/draft\n",
      "title: Physiological Properties and Behavioral Correlates of Hippocampal Granule Cells and Mossy Cells\n",
      "description: Data from \"Physiological Properties and Behavioral Correlates of Hippocampal Granule Cells and Mossy Cells\" Senzai, Buzsaki, Neuron 2017. Electrophysiology recordings of hippocampus during theta maze exploration.\n",
      "approach: electrophysiological approach, approach: behavioral approach\n",
      "measurement technique: signal filtering technique, measurement technique: fourier analysis technique, measurement technique: spike sorting technique, measurement technique: behavioral technique, measurement technique: multi electrode extracellular electrophysiology recording technique\n",
      "variable measured: DecompositionSeries, variable measured: LFP, variable measured: Units, variable measured: Position, variable measured: ElectricalSeries\n",
      "species: House mouse\n",
      "relevance score: 1.6015465400000002\n",
      "\n",
      "DANDISET:000168/draft\n",
      "title: Simultaneous loose seal cell-attached recordings  and two-photon imaging of GCaMP8 expressing mouse V1 neurons with drifting gratings visual stimuli\n",
      "description: We tested the jGCaMP8 sensors in L2/3 pyramidal neurons of mouse primary visual cortex. We made a craniotomy over V1 and infected neurons with adeno-associated virus (AAV2/1-hSynapsin-1) encoding jGCaMP8 variants (s/m/f), jGCaMP7f, or XCaMP-Gf. 18-80 days after the virus injection, the mouse was anesthetized, and we surgically removed the cranial window and performed durotomy. The craniotomy was filled with 10-15 μL of 1.5% agarose, and a D-shaped coverslip was secured on top to suppress brain motion and leave access to the brain on the lateral side of the craniotomy. Then mice were lightly anesthetized and mounted under a custom two-photon microscope. Full-field, high-contrast drifting gratings were presented in each of eight directions to the contralateral eye. Two-photon imaging (122 Hz) was performed of L2/3 somata and neuropil combined with loose-seal, cell-attached electrophysiological recording of a single neuron in the field of view.\n",
      "approach: microscopy approach; cell population imaging, approach: electrophysiological approach\n",
      "measurement technique: two-photon microscopy technique, measurement technique: current clamp technique, measurement technique: analytical technique, measurement technique: voltage clamp technique\n",
      "variable measured: PlaneSegmentation, variable measured: CurrentClampStimulusSeries, variable measured: CurrentClampSeries, variable measured: TwoPhotonSeries, variable measured: ProcessingModule, variable measured: VoltageClampStimulusSeries, variable measured: VoltageClampSeries\n",
      "species: Mus musculus - House mouse\n",
      "relevance score: 1.58228317\n",
      "\n",
      "DANDISET:000020/draft\n",
      "title: Patch-seq recordings from mouse visual cortex\n",
      "description: Whole-cell Patch-seq recordings from neurons of the mouse visual cortex from the Allen Institute for Brain Science, released in June 2020. The majority of cells in this dataset are GABAergic interneurons, but there are also a small number of glutamatergic neurons from layer 2/3 of the mouse visual cortex.\n",
      "\n",
      "measurement technique: analytical technique\n",
      "variable measured: ProcessingModule\n",
      "species: House mouse\n",
      "relevance score: 0.8162182\n",
      "\n",
      "DANDISET:000245/draft\n",
      "title: Electrophysiological properties of adult mouse spinal cord neurons - 22Q1_Ephys_DANDI\n",
      "description: Whole-cell patch clamp recording of specific cell types in the adult mouse spinal cord. Neurons are either input defined, output defined or expressing specific molecular markers. \n",
      "approach: electrophysiological approach\n",
      "measurement technique: current clamp technique\n",
      "variable measured: CurrentClampSeries, variable measured: CurrentClampStimulusSeries\n",
      "species: Mus musculus - House mouse\n",
      "relevance score: 0.7953203\n",
      "\n",
      "DANDISET:000302/draft\n",
      "title: Habenular neurophysiology\n",
      "description: Habenular neurophysiology data associated with Sylwestrak*, Jo*, Vesuna* et al. Cell (2022).\n",
      "approach: behavioral approach, approach: electrophysiological approach, approach: optogenetic approach\n",
      "measurement technique: spike sorting technique, measurement technique: behavioral technique, measurement technique: analytical technique, measurement technique: surgical technique\n",
      "variable measured: BehavioralEvents, variable measured: ProcessingModule, variable measured: Units, variable measured: ElectrodeGroup, variable measured: OptogeneticSeries\n",
      "species: Mus musculus - House mouse\n",
      "relevance score: 0.7935248\n",
      "\n",
      "DANDISET:000295/draft\n",
      "title: Electrophysiological properties of adult mouse spinal cord neurons - 22Q2_Ephys_DANDI\n",
      "description: Whole-cell patch clamp recording of specific cell types in the adult mouse spinal cord. Neurons are either input defined, output defined or expressing specific molecular markers.\n",
      "approach: electrophysiological approach\n",
      "measurement technique: current clamp technique\n",
      "variable measured: CurrentClampSeries, variable measured: CurrentClampStimulusSeries\n",
      "species: Mus musculus - House mouse\n",
      "relevance score: 0.78901964\n",
      "\n",
      "DANDISET:000165/draft\n",
      "title: Aery Jones et al (2021) Dentate Gyrus and CA3 GABAergic Interneurons Bidirectionally Modulate Signatures of Internal and External Drive to CA1\n",
      "description: The experiment consisted of three cohorts of PVCre, SSTCre, and PVCre/SSTCre mice injected with either AAV5-hSyn-DIO-hM4D(Gi)-mCherry (hM4D) or AAV5-hSyn-DIO-mCherry (empty vector) in DG and CA3, then injected with vehicle or CNO prior to recordings. Recordings from all layers of CA1, CA3, and DG were taken during home cage rest and linear track movement. Data are described in Aery Jones et al, 2021, bioRxiv: \"Dentate Gyrus and CA3 GABAergic Interneurons Bidirectionally Modulate Signatures of Internal and External Drive to CA1\". For more information about this data, please contact Emily Aery Jones, Yadong Huang, or Loren Frank.\n",
      "approach: electrophysiological approach, approach: behavioral approach\n",
      "measurement technique: spike sorting technique, measurement technique: signal filtering technique, measurement technique: behavioral technique, measurement technique: multi electrode extracellular electrophysiology recording technique, measurement technique: surgical technique\n",
      "variable measured: Units, variable measured: Position, variable measured: LFP, variable measured: SpatialSeries, variable measured: ElectricalSeries, variable measured: ElectrodeGroup\n",
      "species: House mouse\n",
      "relevance score: 0.78858215\n",
      "\n",
      "DANDISET:000409/draft\n",
      "title: IBL - Brain Wide Map\n",
      "description: The International Brain lab (IBL) aims to understand the neural basis of decision-making in the mouse by gathering a whole-brain activity map composed of electrophysiological recordings pooled from multiple laboratories. We have systematically recorded from nearly all major brain areas with Neuropixels probes, using a grid system for unbiased sampling and replicating each recording site in at least two laboratories. These data have been used to construct a brain-wide map of activity at single-spike cellular resolution during a decision-making task. In addition to the map, this data set contains other information gathered during the task: sensory stimuli presented to the mouse; mouse decisions and response times; and mouse pose information from video recordings and DeepLabCut analysis.\n",
      "approach: behavioral approach, approach: electrophysiological approach\n",
      "measurement technique: analytical technique, measurement technique: behavioral technique, measurement technique: surgical technique, measurement technique: multi electrode extracellular electrophysiology recording technique, measurement technique: spike sorting technique\n",
      "variable measured: ElectricalSeries, variable measured: ElectrodeGroup, variable measured: CompassDirection, variable measured: Units, variable measured: SpatialSeries, variable measured: PupilTracking, variable measured: ProcessingModule\n",
      "species: Mus musculus - House mouse\n",
      "relevance score: 0.7884433\n",
      "\n",
      "DANDISET:000292/draft\n",
      "title: UHN whole-cell patch-clamp excitability recordings from mouse cortical neurons\n",
      "description: Whole-cell patch clamp recordings from acute mouse brain slices of layer 5 cortex.\n",
      "approach: electrophysiological approach\n",
      "measurement technique: current clamp technique, measurement technique: voltage clamp technique\n",
      "variable measured: CurrentClampSeries, variable measured: CurrentClampStimulusSeries, variable measured: VoltageClampStimulusSeries\n",
      "species: Mus musculus - House mouse\n",
      "relevance score: 0.7866779\n",
      "\n",
      "DANDISET:000008/draft\n",
      "title: Phenotypic variation within and across transcriptomic cell types in mouse motor cortex\n",
      "description: We used Patch-seq to combine patch-clamp recording, biocytin staining, and single-cell RNA sequencing of over 1300 neurons in adult mouse motor cortex, providing a comprehensive morpho-electric annotation of almost all transcriptomically defined neural cell types. Contained in this dandiset are the intracellular electrophysiological recordings. See Dandiset #35 for an additional dataset, recorded under the physiological temperature. \n",
      "approach: electrophysiological approach\n",
      "measurement technique: current clamp technique\n",
      "variable measured: CurrentClampStimulusSeries, variable measured: CurrentClampSeries\n",
      "species: Mus musculus - House mouse\n",
      "relevance score: 0.7866111\n",
      "\n",
      "DANDISET:000244/draft\n",
      "title: One photon mesoscale calcium imaging of multiple cell types\n",
      "description: One photon dual wavelength mesoscale calcium imaging of mouse isocortex. Includes data from awake and anesthetized subjects with excitatory neuron sensitive GECIs, and data from awake subjects with GECIs sensitive to three different inhibitory interneuron cell types (PV, SOM and VIP).\n",
      "approach: microscopy approach; cell population imaging\n",
      "measurement technique: two-photon microscopy technique, measurement technique: surgical technique\n",
      "variable measured: ImagingPlane, variable measured: TwoPhotonSeries, variable measured: OpticalChannel\n",
      "species: Mus musculus - House mouse\n",
      "relevance score: 0.7853387\n",
      "\n",
      "---\n",
      "Begin:\n"
     ]
    }
   ],
   "source": [
    "# Prepare a prompt instructing the LLM to suggest the most relevant dandisets based on user's input\n",
    "dandisets_text = add_ordered_similarity_results_to_prompt(similarity_results=ordered_similarity_results)\n",
    "prompt = prepare_prompt(user_input=user_input, dandisets_text=dandisets_text, model=\"gpt-3.5-turbo-16k\")\n",
    "print(prompt)"
   ]
  },
  {
   "cell_type": "code",
   "execution_count": 73,
   "id": "9c2716a2-6cb2-47cf-beee-b4c0bef08258",
   "metadata": {},
   "outputs": [
    {
     "name": "stdout",
     "output_type": "stream",
     "text": [
      "The most relevant dandisets for your question are:\n",
      "\n",
      "1. DANDISET:000350/draft - This dandiset titled \"Glia Accumulate Evidence that Actions Are Futile and Suppress Unsuccessful Behavior\" focuses on the tuning properties of astrocytes in larval zebrafish. It uses a microscopy approach and whole-brain calcium imaging to investigate the role of radial astrocytes in identifying failed swim attempts and mediating a switch to passive behavior.\n",
      "\n",
      "2. DANDISET:000168/draft - This dandiset titled \"Simultaneous loose seal cell-attached recordings and two-photon imaging of GCaMP8 expressing mouse V1 neurons with drifting gratings visual stimuli\" involves the study of mouse primary visual cortex. It combines microscopy and electrophysiological approaches to examine the tuning properties of neurons in response to drifting gratings visual stimuli.\n",
      "\n",
      "These two dandisets are directly relevant to your interest in studying the tuning properties of glial cells and provide valuable insights into the functional roles of glial cells in different contexts.\n"
     ]
    }
   ],
   "source": [
    "answer = get_llm_chat_answer(prompt=prompt)\n",
    "print(answer)"
   ]
  },
  {
   "cell_type": "markdown",
   "id": "6dab9ff9-4170-4e3b-b9ce-98a6eb7de929",
   "metadata": {},
   "source": [
    "# Comparison of methods\n",
    "\n",
    "Here we compare the results of both methods for a variety of possible questions."
   ]
  },
  {
   "cell_type": "code",
   "execution_count": 17,
   "id": "4c494d1e-6ee6-47b8-9d97-167ca494b7b8",
   "metadata": {},
   "outputs": [],
   "source": [
    "from utils.pipeline import suggest_relevant_dandisets"
   ]
  },
  {
   "cell_type": "code",
   "execution_count": 25,
   "id": "c0a87f25-da8b-4e7a-b138-34cf498b1029",
   "metadata": {},
   "outputs": [
    {
     "name": "stdout",
     "output_type": "stream",
     "text": [
      "The most relevant dandisets for your question are:\n",
      "\n",
      "1. DANDISET:000055/draft - AJILE12: Long-term naturalistic human intracranial neural recordings and pose. This dataset includes synchronized intracranial neural recordings and upper-body pose trajectories across 55 semi-continuous days of naturalistic movements in humans. The dataset provides insights into the neural basis of human movement in naturalistic scenarios.\n",
      "\n",
      "2. DANDISET:000540/draft - Dataset for: A change in behavioral state switches the pattern of motor output that underlies rhythmic head and orofacial movements. This dataset includes multi-modal data from rats performing naturalistic foraging and rearing behaviors. While it is not directly related to human movement, it provides valuable information on the patterns of motor output in response to changes in behavioral states.\n",
      "\n",
      "These dandisets are the most relevant to your interest in studying natural movement in humans. The AJILE12 dataset offers intracranial neural recordings and pose trajectories during naturalistic movements, providing insights into the neural correlates of unstructured, spontaneous movements. The dataset for the study on behavioral state changes and motor output in rats offers valuable insights into the underlying patterns of motor output in naturalistic behaviors.\n"
     ]
    }
   ],
   "source": [
    "user_input = \"I want to study natural movement in humans\"\n",
    "\n",
    "suggestions = suggest_relevant_dandisets(user_input=user_input, model=\"gpt-3.5-turbo-16k\", method=1)\n",
    "print(suggestions)"
   ]
  },
  {
   "cell_type": "code",
   "execution_count": 26,
   "id": "8161f960-7026-4ff6-970e-121c77d93b7b",
   "metadata": {},
   "outputs": [
    {
     "name": "stdout",
     "output_type": "stream",
     "text": [
      "The most relevant dandisets for your question are:\n",
      "\n",
      "1. DANDISET:000045/draft: A NWB-based dataset and processing pipeline of human single-neuron activity during a declarative memory task. This dataset contains 1863 single neurons recorded from the medial temporal lobes of 59 human subjects during a recognition memory task. The data is stored in Neurodata Without Borders (NWB) format and includes meta-data, stimulus information, and behavior.\n",
      "\n",
      "2. DANDISET:000097/draft: Large-scale neural recordings with single-neuron resolution using Neuropixels probes in human cortex. This dataset describes a new probe variant and techniques that enable simultaneous recording from over 200 well-isolated cortical single units in human participants. It provides high-density recordings at an unprecedented spatiotemporal resolution.\n",
      "\n",
      "3. DANDISET:000115/draft: Low-noise encoding of active touch by layer 4 in the somatosensory cortex. This dataset includes data from a study on how layer 4 neurons in the somatosensory cortex encode active touch. It involves behavioral and electrophysiological techniques and provides insights into the mechanisms of touch perception.\n",
      "\n",
      "4. DANDISET:000250/draft: Excitatory and inhibitory neuron annotations in silico. This dataset provides annotations of excitatory and inhibitory neurons in mouse cortex. It can be useful for understanding the role of different types of neurons in cortical circuitry and information processing.\n",
      "\n",
      "Please note that the relevance scores for these dandisets are identical, indicating that they are all equally relevant to your question.\n"
     ]
    }
   ],
   "source": [
    "suggestions = suggest_relevant_dandisets(user_input=user_input, model=\"gpt-3.5-turbo-16k\", method=2)\n",
    "print(suggestions)"
   ]
  },
  {
   "cell_type": "code",
   "execution_count": null,
   "id": "dbc4696d-4257-4a36-9428-0483ed5c191d",
   "metadata": {},
   "outputs": [],
   "source": []
  },
  {
   "cell_type": "code",
   "execution_count": 23,
   "id": "8d4d4bdb-41a7-4b05-a7e9-59fd77ff4640",
   "metadata": {},
   "outputs": [
    {
     "name": "stdout",
     "output_type": "stream",
     "text": [
      "The most relevant dandisets for your question are:\n",
      "1. DANDISET:000044/draft - This dataset includes electrophysiological recordings from rat CA1 hippocampus during navigation in different types of mazes. The animals were trained to run on novel mazes and their neural firing and LFP patterns were recorded. This dataset provides insights into the neural activity underlying spatial learning and navigation in rodents.\n",
      "\n",
      "2. DANDISET:000410/draft - This dataset contains electrophysiological data from rat CA1 hippocampus during navigation on a linear or w-shaped track. The dataset provides information about the dynamic synchronization between hippocampal spatial representations and the rat's stepping rhythm.\n",
      "\n",
      "These dandisets are highly relevant to your query as they involve electrophysiological recordings of rodents navigating mazes. They provide valuable data for studying the neural correlates of spatial learning and memory.\n"
     ]
    }
   ],
   "source": [
    "user_input = \"Are there any datasets that have electrophysiology recordings of a rodent navigating a maze?\"\n",
    "\n",
    "suggestions = suggest_relevant_dandisets(user_input=user_input, model=\"gpt-3.5-turbo-16k\", method=1)\n",
    "print(suggestions)"
   ]
  },
  {
   "cell_type": "code",
   "execution_count": 24,
   "id": "35f1d89a-44fb-41c4-bbbe-832965677341",
   "metadata": {},
   "outputs": [
    {
     "name": "stdout",
     "output_type": "stream",
     "text": [
      "The most relevant dandisets for your question are: \n",
      "\n",
      "1. DANDISET:000044/draft: This dandiset consists of electrophysiological recordings of hippocampal CA1 neural firing and LFP patterns in rats navigating different types of mazes. The recordings were performed during a novel spatial learning task in which the rats were transferred to a novel room and water-rewarded to run on a maze. The data includes multi-cellular electrophysiological recordings, neck EMG, head-mounted accelerometer signals, and tracking of the animal's position during the maze running epochs.\n",
      "\n",
      "2. DANDISET:000402/draft: This dandiset includes two-photon functional imaging data from a male mouse. The recordings were performed in vivo using a two-photon random access mesoscope while the mouse viewed natural movies and parametric stimuli. The data includes calcium imaging of approximately 75,000 pyramidal cells in primary visual cortex and higher visual cortical areas, as well as treadmill rotation and eye movement data.\n",
      "\n",
      "Both dandisets provide data related to electrophysiological recordings of animals performing spatial tasks. The first dandiset focuses specifically on the effect of spatial learning on hippocampal neural firing patterns in rats navigating mazes. The second dandiset provides two-photon functional imaging data from a mouse during visual stimuli, which can provide insights into neural activity related to spatial navigation.\n"
     ]
    }
   ],
   "source": [
    "suggestions = suggest_relevant_dandisets(user_input=user_input, model=\"gpt-3.5-turbo-16k\", method=2)\n",
    "print(suggestions)"
   ]
  },
  {
   "cell_type": "code",
   "execution_count": null,
   "id": "f7fa2e19-3019-4a29-b4ce-816428ecb893",
   "metadata": {},
   "outputs": [],
   "source": []
  }
 ],
 "metadata": {
  "kernelspec": {
   "display_name": "env_gpt",
   "language": "python",
   "name": "env_gpt"
  },
  "language_info": {
   "codemirror_mode": {
    "name": "ipython",
    "version": 3
   },
   "file_extension": ".py",
   "mimetype": "text/x-python",
   "name": "python",
   "nbconvert_exporter": "python",
   "pygments_lexer": "ipython3",
   "version": "3.11.2"
  }
 },
 "nbformat": 4,
 "nbformat_minor": 5
}
